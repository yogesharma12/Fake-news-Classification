{
 "cells": [
  {
   "cell_type": "code",
   "execution_count": 2,
   "metadata": {},
   "outputs": [],
   "source": [
    "import pandas as pd\n",
    "import numpy as np\n",
    "from sklearn.feature_extraction.text import TfidfVectorizer\n",
    "from sklearn.model_selection import train_test_split\n",
    "from sklearn.metrics import f1_score, accuracy_score, recall_score, precision_score"
   ]
  },
  {
   "cell_type": "code",
   "execution_count": 3,
   "metadata": {},
   "outputs": [],
   "source": [
    "df = pd.read_pickle('../savedFiles/cleaned_df.pkl')"
   ]
  },
  {
   "cell_type": "code",
   "execution_count": 4,
   "metadata": {},
   "outputs": [
    {
     "data": {
      "text/html": [
       "<div>\n",
       "<style scoped>\n",
       "    .dataframe tbody tr th:only-of-type {\n",
       "        vertical-align: middle;\n",
       "    }\n",
       "\n",
       "    .dataframe tbody tr th {\n",
       "        vertical-align: top;\n",
       "    }\n",
       "\n",
       "    .dataframe thead th {\n",
       "        text-align: right;\n",
       "    }\n",
       "</style>\n",
       "<table border=\"1\" class=\"dataframe\">\n",
       "  <thead>\n",
       "    <tr style=\"text-align: right;\">\n",
       "      <th></th>\n",
       "      <th>index</th>\n",
       "      <th>title</th>\n",
       "      <th>text</th>\n",
       "      <th>link</th>\n",
       "      <th>author</th>\n",
       "      <th>label</th>\n",
       "      <th>clean_title</th>\n",
       "      <th>clean_text</th>\n",
       "    </tr>\n",
       "  </thead>\n",
       "  <tbody>\n",
       "    <tr>\n",
       "      <th>0</th>\n",
       "      <td>0</td>\n",
       "      <td>A Collapse That Wiped Out 5 Years of Growth, W...</td>\n",
       "      <td>“Not only have we plateaued, but we may be los...</td>\n",
       "      <td>https://www.nytimes.com/2020/07/30/business/ec...</td>\n",
       "      <td>[Ben Casselman]</td>\n",
       "      <td>0</td>\n",
       "      <td>collapse wiped years growth bounce sight</td>\n",
       "      <td>plateaued may losing ground said diane swonk ...</td>\n",
       "    </tr>\n",
       "    <tr>\n",
       "      <th>1</th>\n",
       "      <td>1</td>\n",
       "      <td>Grilled by Lawmakers, Big Tech Turns Up the Ga...</td>\n",
       "      <td>“I don’t know the specifics of that situation,...</td>\n",
       "      <td>https://www.nytimes.com/2020/07/30/technology/...</td>\n",
       "      <td>[Kevin Roose]</td>\n",
       "      <td>0</td>\n",
       "      <td>grilled lawmakers big tech turns gaslight</td>\n",
       "      <td>know specifics situation mr bezos replied ano...</td>\n",
       "    </tr>\n",
       "    <tr>\n",
       "      <th>2</th>\n",
       "      <td>2</td>\n",
       "      <td>How Pimco’s Cayman-Based Hedge Fund Can Profit...</td>\n",
       "      <td>WASHINGTON — Pacific Investment Management Com...</td>\n",
       "      <td>https://www.nytimes.com/2020/07/30/business/ec...</td>\n",
       "      <td>[Jeanna Smialek]</td>\n",
       "      <td>0</td>\n",
       "      <td>pimco cayman based hedge fund profit fed rescue</td>\n",
       "      <td>washington pacific investment management comp...</td>\n",
       "    </tr>\n",
       "    <tr>\n",
       "      <th>3</th>\n",
       "      <td>3</td>\n",
       "      <td>Big Tech Earnings Surge as Economy Slumps</td>\n",
       "      <td>Live Updated July 30, 2020, 8:22 p.m. ET July ...</td>\n",
       "      <td>https://www.nytimes.com/live/2020/07/30/busine...</td>\n",
       "      <td>[Mike Isaac, Karen Weise, Daisuke Wakabayashi,...</td>\n",
       "      <td>0</td>\n",
       "      <td>big tech earnings surge economy slumps</td>\n",
       "      <td>live updated july p et july p et big tech ear...</td>\n",
       "    </tr>\n",
       "    <tr>\n",
       "      <th>4</th>\n",
       "      <td>4</td>\n",
       "      <td>‘This Is a New Phase’: Europe Shifts Tactics t...</td>\n",
       "      <td>LONDON — European Union leaders are pursuing a...</td>\n",
       "      <td>https://www.nytimes.com/2020/07/30/technology/...</td>\n",
       "      <td>[Adam Satariano]</td>\n",
       "      <td>0</td>\n",
       "      <td>new phase europe shifts tactics limit tech power</td>\n",
       "      <td>london european union leaders pursuing new la...</td>\n",
       "    </tr>\n",
       "    <tr>\n",
       "      <th>...</th>\n",
       "      <td>...</td>\n",
       "      <td>...</td>\n",
       "      <td>...</td>\n",
       "      <td>...</td>\n",
       "      <td>...</td>\n",
       "      <td>...</td>\n",
       "      <td>...</td>\n",
       "      <td>...</td>\n",
       "    </tr>\n",
       "    <tr>\n",
       "      <th>799</th>\n",
       "      <td>799</td>\n",
       "      <td>BREAKING! This Revolutionary Cancer-Killing Tr...</td>\n",
       "      <td>This is the future of medicine. Novartis Pharm...</td>\n",
       "      <td>https://www.usasupreme.com/breaking-revolution...</td>\n",
       "      <td>[Alex D., Alex D Is A Conservative Journalist,...</td>\n",
       "      <td>1</td>\n",
       "      <td>breaking revolutionary cancer killing treatme...</td>\n",
       "      <td>future medicine novartis pharmaceuticals comp...</td>\n",
       "    </tr>\n",
       "    <tr>\n",
       "      <th>800</th>\n",
       "      <td>800</td>\n",
       "      <td>This Magic Mushroom Compound Will Help Treat D...</td>\n",
       "      <td>Science is definitely amazing!\\n\\nNature is ab...</td>\n",
       "      <td>https://www.usasupreme.com/magic-mushroom-comp...</td>\n",
       "      <td>[Natalie D., Natalie D. Is An American Conserv...</td>\n",
       "      <td>1</td>\n",
       "      <td>magic mushroom compound help treat depression</td>\n",
       "      <td>science definitely amazing nature abundant tr...</td>\n",
       "    </tr>\n",
       "    <tr>\n",
       "      <th>801</th>\n",
       "      <td>801</td>\n",
       "      <td>This Magic Mushroom Compound Will Help Treat D...</td>\n",
       "      <td>Science is definitely amazing!\\n\\nNature is ab...</td>\n",
       "      <td>https://www.usasupreme.com/magic-mushroom-comp...</td>\n",
       "      <td>[Natalie D., Natalie D. Is An American Conserv...</td>\n",
       "      <td>1</td>\n",
       "      <td>magic mushroom compound help treat depression</td>\n",
       "      <td>science definitely amazing nature abundant tr...</td>\n",
       "    </tr>\n",
       "    <tr>\n",
       "      <th>802</th>\n",
       "      <td>802</td>\n",
       "      <td>Trump Appoint Hollywood Legend To Be The Head ...</td>\n",
       "      <td>Presiden Trump made serious changes in the Whi...</td>\n",
       "      <td>https://www.usasupreme.com/trump-appoint-holly...</td>\n",
       "      <td>[Alex D., Alex D Is A Conservative Journalist,...</td>\n",
       "      <td>1</td>\n",
       "      <td>trump appoint hollywood legend head america f...</td>\n",
       "      <td>presiden trump made serious changes white hou...</td>\n",
       "    </tr>\n",
       "    <tr>\n",
       "      <th>803</th>\n",
       "      <td>803</td>\n",
       "      <td>Trump Appoint Hollywood Legend To Be The Head ...</td>\n",
       "      <td>Presiden Trump made serious changes in the Whi...</td>\n",
       "      <td>https://www.usasupreme.com/trump-appoint-holly...</td>\n",
       "      <td>[Alex D., Alex D Is A Conservative Journalist,...</td>\n",
       "      <td>1</td>\n",
       "      <td>trump appoint hollywood legend head america f...</td>\n",
       "      <td>presiden trump made serious changes white hou...</td>\n",
       "    </tr>\n",
       "  </tbody>\n",
       "</table>\n",
       "<p>804 rows × 8 columns</p>\n",
       "</div>"
      ],
      "text/plain": [
       "     index                                              title  \\\n",
       "0        0  A Collapse That Wiped Out 5 Years of Growth, W...   \n",
       "1        1  Grilled by Lawmakers, Big Tech Turns Up the Ga...   \n",
       "2        2  How Pimco’s Cayman-Based Hedge Fund Can Profit...   \n",
       "3        3          Big Tech Earnings Surge as Economy Slumps   \n",
       "4        4  ‘This Is a New Phase’: Europe Shifts Tactics t...   \n",
       "..     ...                                                ...   \n",
       "799    799  BREAKING! This Revolutionary Cancer-Killing Tr...   \n",
       "800    800  This Magic Mushroom Compound Will Help Treat D...   \n",
       "801    801  This Magic Mushroom Compound Will Help Treat D...   \n",
       "802    802  Trump Appoint Hollywood Legend To Be The Head ...   \n",
       "803    803  Trump Appoint Hollywood Legend To Be The Head ...   \n",
       "\n",
       "                                                  text  \\\n",
       "0    “Not only have we plateaued, but we may be los...   \n",
       "1    “I don’t know the specifics of that situation,...   \n",
       "2    WASHINGTON — Pacific Investment Management Com...   \n",
       "3    Live Updated July 30, 2020, 8:22 p.m. ET July ...   \n",
       "4    LONDON — European Union leaders are pursuing a...   \n",
       "..                                                 ...   \n",
       "799  This is the future of medicine. Novartis Pharm...   \n",
       "800  Science is definitely amazing!\\n\\nNature is ab...   \n",
       "801  Science is definitely amazing!\\n\\nNature is ab...   \n",
       "802  Presiden Trump made serious changes in the Whi...   \n",
       "803  Presiden Trump made serious changes in the Whi...   \n",
       "\n",
       "                                                  link  \\\n",
       "0    https://www.nytimes.com/2020/07/30/business/ec...   \n",
       "1    https://www.nytimes.com/2020/07/30/technology/...   \n",
       "2    https://www.nytimes.com/2020/07/30/business/ec...   \n",
       "3    https://www.nytimes.com/live/2020/07/30/busine...   \n",
       "4    https://www.nytimes.com/2020/07/30/technology/...   \n",
       "..                                                 ...   \n",
       "799  https://www.usasupreme.com/breaking-revolution...   \n",
       "800  https://www.usasupreme.com/magic-mushroom-comp...   \n",
       "801  https://www.usasupreme.com/magic-mushroom-comp...   \n",
       "802  https://www.usasupreme.com/trump-appoint-holly...   \n",
       "803  https://www.usasupreme.com/trump-appoint-holly...   \n",
       "\n",
       "                                                author  label  \\\n",
       "0                                      [Ben Casselman]      0   \n",
       "1                                        [Kevin Roose]      0   \n",
       "2                                     [Jeanna Smialek]      0   \n",
       "3    [Mike Isaac, Karen Weise, Daisuke Wakabayashi,...      0   \n",
       "4                                     [Adam Satariano]      0   \n",
       "..                                                 ...    ...   \n",
       "799  [Alex D., Alex D Is A Conservative Journalist,...      1   \n",
       "800  [Natalie D., Natalie D. Is An American Conserv...      1   \n",
       "801  [Natalie D., Natalie D. Is An American Conserv...      1   \n",
       "802  [Alex D., Alex D Is A Conservative Journalist,...      1   \n",
       "803  [Alex D., Alex D Is A Conservative Journalist,...      1   \n",
       "\n",
       "                                           clean_title  \\\n",
       "0             collapse wiped years growth bounce sight   \n",
       "1            grilled lawmakers big tech turns gaslight   \n",
       "2      pimco cayman based hedge fund profit fed rescue   \n",
       "3               big tech earnings surge economy slumps   \n",
       "4     new phase europe shifts tactics limit tech power   \n",
       "..                                                 ...   \n",
       "799   breaking revolutionary cancer killing treatme...   \n",
       "800      magic mushroom compound help treat depression   \n",
       "801      magic mushroom compound help treat depression   \n",
       "802   trump appoint hollywood legend head america f...   \n",
       "803   trump appoint hollywood legend head america f...   \n",
       "\n",
       "                                            clean_text  \n",
       "0     plateaued may losing ground said diane swonk ...  \n",
       "1     know specifics situation mr bezos replied ano...  \n",
       "2     washington pacific investment management comp...  \n",
       "3     live updated july p et july p et big tech ear...  \n",
       "4     london european union leaders pursuing new la...  \n",
       "..                                                 ...  \n",
       "799   future medicine novartis pharmaceuticals comp...  \n",
       "800   science definitely amazing nature abundant tr...  \n",
       "801   science definitely amazing nature abundant tr...  \n",
       "802   presiden trump made serious changes white hou...  \n",
       "803   presiden trump made serious changes white hou...  \n",
       "\n",
       "[804 rows x 8 columns]"
      ]
     },
     "execution_count": 4,
     "metadata": {},
     "output_type": "execute_result"
    }
   ],
   "source": [
    "df.reset_index()"
   ]
  },
  {
   "cell_type": "code",
   "execution_count": 5,
   "metadata": {},
   "outputs": [],
   "source": [
    "# Preparing the target and predictors for modeling\n",
    "# Keep the title and body text separated for different models\n",
    "\n",
    "X_body_text = df['clean_text'].values\n",
    "X_title_text = df['clean_title'].values\n",
    "y = df['label'].values"
   ]
  },
  {
   "cell_type": "raw",
   "metadata": {},
   "source": [
    "Convert the text into a TF-IDF.\n",
    "\n",
    "TF-IDF counts the number of occurrences of each word in a document and divides the number of occurrences of each word in a document by the total number of words in the document: these new features are called TF for Term Frequencies.\n",
    "\n",
    "Another refinement on top of TF is to downscale weights for words that occur in many documents in the corpus and are therefore less informative than those that occur only in a smaller portion of the corpus.\n",
    "\n",
    "This downscaling is called TF-IDF for “Term Frequency times Inverse Document Frequency”."
   ]
  },
  {
   "cell_type": "markdown",
   "metadata": {},
   "source": [
    "# create tf idf vector"
   ]
  },
  {
   "cell_type": "code",
   "execution_count": 6,
   "metadata": {},
   "outputs": [],
   "source": [
    "tfidf = TfidfVectorizer(ngram_range=(1,2), max_df= 0.85, min_df= 0.01)"
   ]
  },
  {
   "cell_type": "raw",
   "metadata": {},
   "source": [
    "##transform X_body_text and X_title_text datasets into tfidf vector"
   ]
  },
  {
   "cell_type": "code",
   "execution_count": 7,
   "metadata": {},
   "outputs": [],
   "source": [
    "X_body_tfidf = tfidf.fit_transform(X_body_text)\n",
    "X_title_tfidf = tfidf.fit_transform (X_title_text)"
   ]
  },
  {
   "cell_type": "code",
   "execution_count": 8,
   "metadata": {},
   "outputs": [],
   "source": [
    "indices = df.index.values"
   ]
  },
  {
   "cell_type": "markdown",
   "metadata": {},
   "source": [
    "# 80% of articles for training, 20% for testing from X and y"
   ]
  },
  {
   "cell_type": "code",
   "execution_count": 9,
   "metadata": {},
   "outputs": [],
   "source": [
    "X_body_tfidf_train, X_body_tfidf_test, y_body_train, y_body_test, \\\n",
    "indices_body_train, indices_body_test = train_test_split(X_body_tfidf, y, indices, test_size = 0.2, random_state=42)"
   ]
  },
  {
   "cell_type": "code",
   "execution_count": 10,
   "metadata": {},
   "outputs": [
    {
     "data": {
      "text/html": [
       "<div>\n",
       "<style scoped>\n",
       "    .dataframe tbody tr th:only-of-type {\n",
       "        vertical-align: middle;\n",
       "    }\n",
       "\n",
       "    .dataframe tbody tr th {\n",
       "        vertical-align: top;\n",
       "    }\n",
       "\n",
       "    .dataframe thead th {\n",
       "        text-align: right;\n",
       "    }\n",
       "</style>\n",
       "<table border=\"1\" class=\"dataframe\">\n",
       "  <thead>\n",
       "    <tr style=\"text-align: right;\">\n",
       "      <th></th>\n",
       "      <th>title</th>\n",
       "      <th>text</th>\n",
       "      <th>link</th>\n",
       "      <th>author</th>\n",
       "      <th>clean_title</th>\n",
       "      <th>clean_text</th>\n",
       "    </tr>\n",
       "    <tr>\n",
       "      <th>label</th>\n",
       "      <th></th>\n",
       "      <th></th>\n",
       "      <th></th>\n",
       "      <th></th>\n",
       "      <th></th>\n",
       "      <th></th>\n",
       "    </tr>\n",
       "  </thead>\n",
       "  <tbody>\n",
       "    <tr>\n",
       "      <th>0</th>\n",
       "      <td>473</td>\n",
       "      <td>473</td>\n",
       "      <td>473</td>\n",
       "      <td>473</td>\n",
       "      <td>473</td>\n",
       "      <td>473</td>\n",
       "    </tr>\n",
       "    <tr>\n",
       "      <th>1</th>\n",
       "      <td>170</td>\n",
       "      <td>170</td>\n",
       "      <td>170</td>\n",
       "      <td>170</td>\n",
       "      <td>170</td>\n",
       "      <td>170</td>\n",
       "    </tr>\n",
       "  </tbody>\n",
       "</table>\n",
       "</div>"
      ],
      "text/plain": [
       "       title  text  link  author  clean_title  clean_text\n",
       "label                                                    \n",
       "0        473   473   473     473          473         473\n",
       "1        170   170   170     170          170         170"
      ]
     },
     "execution_count": 10,
     "metadata": {},
     "output_type": "execute_result"
    }
   ],
   "source": [
    "df.loc[indices_body_train].groupby('label').agg('count')  #training data states "
   ]
  },
  {
   "cell_type": "code",
   "execution_count": 11,
   "metadata": {},
   "outputs": [
    {
     "data": {
      "text/html": [
       "<div>\n",
       "<style scoped>\n",
       "    .dataframe tbody tr th:only-of-type {\n",
       "        vertical-align: middle;\n",
       "    }\n",
       "\n",
       "    .dataframe tbody tr th {\n",
       "        vertical-align: top;\n",
       "    }\n",
       "\n",
       "    .dataframe thead th {\n",
       "        text-align: right;\n",
       "    }\n",
       "</style>\n",
       "<table border=\"1\" class=\"dataframe\">\n",
       "  <thead>\n",
       "    <tr style=\"text-align: right;\">\n",
       "      <th></th>\n",
       "      <th>title</th>\n",
       "      <th>text</th>\n",
       "      <th>link</th>\n",
       "      <th>author</th>\n",
       "      <th>clean_title</th>\n",
       "      <th>clean_text</th>\n",
       "    </tr>\n",
       "    <tr>\n",
       "      <th>label</th>\n",
       "      <th></th>\n",
       "      <th></th>\n",
       "      <th></th>\n",
       "      <th></th>\n",
       "      <th></th>\n",
       "      <th></th>\n",
       "    </tr>\n",
       "  </thead>\n",
       "  <tbody>\n",
       "    <tr>\n",
       "      <th>0</th>\n",
       "      <td>117</td>\n",
       "      <td>117</td>\n",
       "      <td>117</td>\n",
       "      <td>117</td>\n",
       "      <td>117</td>\n",
       "      <td>117</td>\n",
       "    </tr>\n",
       "    <tr>\n",
       "      <th>1</th>\n",
       "      <td>44</td>\n",
       "      <td>44</td>\n",
       "      <td>44</td>\n",
       "      <td>44</td>\n",
       "      <td>44</td>\n",
       "      <td>44</td>\n",
       "    </tr>\n",
       "  </tbody>\n",
       "</table>\n",
       "</div>"
      ],
      "text/plain": [
       "       title  text  link  author  clean_title  clean_text\n",
       "label                                                    \n",
       "0        117   117   117     117          117         117\n",
       "1         44    44    44      44           44          44"
      ]
     },
     "execution_count": 11,
     "metadata": {},
     "output_type": "execute_result"
    }
   ],
   "source": [
    "df.loc[indices_body_test].groupby('label').agg('count')   #test data states"
   ]
  },
  {
   "cell_type": "markdown",
   "metadata": {},
   "source": [
    "# Import naive bayes classifier"
   ]
  },
  {
   "cell_type": "code",
   "execution_count": 12,
   "metadata": {},
   "outputs": [],
   "source": [
    "from sklearn.naive_bayes import MultinomialNB"
   ]
  },
  {
   "cell_type": "code",
   "execution_count": 13,
   "metadata": {},
   "outputs": [],
   "source": [
    "nb_body = MultinomialNB()        #initialize nb classifier"
   ]
  },
  {
   "cell_type": "markdown",
   "metadata": {},
   "source": [
    "fit training data into classifier"
   ]
  },
  {
   "cell_type": "code",
   "execution_count": 14,
   "metadata": {},
   "outputs": [
    {
     "data": {
      "text/plain": [
       "MultinomialNB()"
      ]
     },
     "execution_count": 14,
     "metadata": {},
     "output_type": "execute_result"
    }
   ],
   "source": [
    "nb_body.fit(X_body_tfidf_train, y_body_train)"
   ]
  },
  {
   "cell_type": "markdown",
   "metadata": {},
   "source": [
    "prediction "
   ]
  },
  {
   "cell_type": "code",
   "execution_count": 15,
   "metadata": {},
   "outputs": [],
   "source": [
    "y_body_train_pred = nb_body.predict(X_body_tfidf_train)"
   ]
  },
  {
   "cell_type": "code",
   "execution_count": 16,
   "metadata": {},
   "outputs": [
    {
     "name": "stdout",
     "output_type": "stream",
     "text": [
      "Naive Bayes In Sample F1 and Accuracy Scores:\n",
      "F1 score 84.7%\n",
      "Accuracy score 89.74%\n"
     ]
    }
   ],
   "source": [
    "print('Naive Bayes In Sample F1 and Accuracy Scores:')\n",
    "print('F1 score {:.4}%'.format(f1_score(y_body_train, y_body_train_pred, average='macro')*100 ))\n",
    "print ('Accuracy score {:.4}%'.format(accuracy_score(y_body_train, y_body_train_pred)*100))"
   ]
  },
  {
   "cell_type": "code",
   "execution_count": null,
   "metadata": {},
   "outputs": [],
   "source": []
  },
  {
   "cell_type": "code",
   "execution_count": 38,
   "metadata": {},
   "outputs": [],
   "source": [
    "s = {'title':['west bengal', 'mumbai'],\n",
    "     'text':['West Bengal Chief Minister Mamata Banerjee on Tuesday announced that lockdown across state for two days every week has been extended till August 31. There will be no lockdown in the state on the occasion of Eid on August 1, she added. The two designated lockdown days for every week would be announced in advance, the government had announced earlier.',\n",
    "                       'Mumbai reported 700 coronavirus cases in a day on Tuesday, the lowest in three months. The good news: Only 700 cases today in Mumbai and that too with highest testing till date in Mumbai in a single day (8,776)...A major relief after 3 months, Maharashtra minister Aaditya Thackeray tweeted. Dont let your mask down! Only get numbers down! he added.']}"
   ]
  },
  {
   "cell_type": "code",
   "execution_count": 39,
   "metadata": {},
   "outputs": [],
   "source": [
    "df = pd.DataFrame(s)"
   ]
  },
  {
   "cell_type": "code",
   "execution_count": 40,
   "metadata": {},
   "outputs": [
    {
     "data": {
      "text/html": [
       "<div>\n",
       "<style scoped>\n",
       "    .dataframe tbody tr th:only-of-type {\n",
       "        vertical-align: middle;\n",
       "    }\n",
       "\n",
       "    .dataframe tbody tr th {\n",
       "        vertical-align: top;\n",
       "    }\n",
       "\n",
       "    .dataframe thead th {\n",
       "        text-align: right;\n",
       "    }\n",
       "</style>\n",
       "<table border=\"1\" class=\"dataframe\">\n",
       "  <thead>\n",
       "    <tr style=\"text-align: right;\">\n",
       "      <th></th>\n",
       "      <th>title</th>\n",
       "      <th>text</th>\n",
       "    </tr>\n",
       "  </thead>\n",
       "  <tbody>\n",
       "    <tr>\n",
       "      <th>0</th>\n",
       "      <td>west bengal</td>\n",
       "      <td>West Bengal Chief Minister Mamata Banerjee on ...</td>\n",
       "    </tr>\n",
       "    <tr>\n",
       "      <th>1</th>\n",
       "      <td>mumbai</td>\n",
       "      <td>Mumbai reported 700 coronavirus cases in a day...</td>\n",
       "    </tr>\n",
       "  </tbody>\n",
       "</table>\n",
       "</div>"
      ],
      "text/plain": [
       "         title                                               text\n",
       "0  west bengal  West Bengal Chief Minister Mamata Banerjee on ...\n",
       "1       mumbai  Mumbai reported 700 coronavirus cases in a day..."
      ]
     },
     "execution_count": 40,
     "metadata": {},
     "output_type": "execute_result"
    }
   ],
   "source": [
    "df"
   ]
  },
  {
   "cell_type": "code",
   "execution_count": 41,
   "metadata": {},
   "outputs": [],
   "source": [
    "%run cleaning_helper.py"
   ]
  },
  {
   "cell_type": "code",
   "execution_count": 42,
   "metadata": {},
   "outputs": [],
   "source": [
    "new_df = df.copy()"
   ]
  },
  {
   "cell_type": "code",
   "execution_count": 43,
   "metadata": {},
   "outputs": [
    {
     "data": {
      "text/html": [
       "<div>\n",
       "<style scoped>\n",
       "    .dataframe tbody tr th:only-of-type {\n",
       "        vertical-align: middle;\n",
       "    }\n",
       "\n",
       "    .dataframe tbody tr th {\n",
       "        vertical-align: top;\n",
       "    }\n",
       "\n",
       "    .dataframe thead th {\n",
       "        text-align: right;\n",
       "    }\n",
       "</style>\n",
       "<table border=\"1\" class=\"dataframe\">\n",
       "  <thead>\n",
       "    <tr style=\"text-align: right;\">\n",
       "      <th></th>\n",
       "      <th>title</th>\n",
       "      <th>text</th>\n",
       "      <th>clean_title</th>\n",
       "      <th>clean_text</th>\n",
       "    </tr>\n",
       "  </thead>\n",
       "  <tbody>\n",
       "    <tr>\n",
       "      <th>0</th>\n",
       "      <td>west bengal</td>\n",
       "      <td>West Bengal Chief Minister Mamata Banerjee on ...</td>\n",
       "      <td>west bengal</td>\n",
       "      <td>west bengal chief minister mamata banerjee tu...</td>\n",
       "    </tr>\n",
       "    <tr>\n",
       "      <th>1</th>\n",
       "      <td>mumbai</td>\n",
       "      <td>Mumbai reported 700 coronavirus cases in a day...</td>\n",
       "      <td>mumbai</td>\n",
       "      <td>mumbai reported coronavirus cases day tuesday...</td>\n",
       "    </tr>\n",
       "  </tbody>\n",
       "</table>\n",
       "</div>"
      ],
      "text/plain": [
       "         title                                               text  \\\n",
       "0  west bengal  West Bengal Chief Minister Mamata Banerjee on ...   \n",
       "1       mumbai  Mumbai reported 700 coronavirus cases in a day...   \n",
       "\n",
       "    clean_title                                         clean_text  \n",
       "0   west bengal   west bengal chief minister mamata banerjee tu...  \n",
       "1        mumbai   mumbai reported coronavirus cases day tuesday...  "
      ]
     },
     "execution_count": 43,
     "metadata": {},
     "output_type": "execute_result"
    }
   ],
   "source": [
    "new_df = clean_column(new_df, 'title', 'clean_title')\n",
    "new_df = clean_column(new_df, 'text', 'clean_text')\n",
    "new_df.head()"
   ]
  },
  {
   "cell_type": "code",
   "execution_count": 44,
   "metadata": {},
   "outputs": [],
   "source": [
    "text_values = new_df['clean_text'].values\n",
    "x_body_tfidf = tfidf.fit_transform(text_values)"
   ]
  },
  {
   "cell_type": "code",
   "execution_count": 45,
   "metadata": {},
   "outputs": [
    {
     "ename": "ValueError",
     "evalue": "dimension mismatch",
     "output_type": "error",
     "traceback": [
      "\u001b[0;31m---------------------------------------------------------------------------\u001b[0m",
      "\u001b[0;31mValueError\u001b[0m                                Traceback (most recent call last)",
      "\u001b[0;32m<ipython-input-45-e8aec681c74c>\u001b[0m in \u001b[0;36m<module>\u001b[0;34m\u001b[0m\n\u001b[0;32m----> 1\u001b[0;31m \u001b[0my_body_train_pred\u001b[0m \u001b[0;34m=\u001b[0m \u001b[0mnb_body\u001b[0m\u001b[0;34m.\u001b[0m\u001b[0mpredict\u001b[0m\u001b[0;34m(\u001b[0m\u001b[0mx_body_tfidf\u001b[0m\u001b[0;34m)\u001b[0m\u001b[0;34m\u001b[0m\u001b[0;34m\u001b[0m\u001b[0m\n\u001b[0m",
      "\u001b[0;32m~/.local/lib/python3.6/site-packages/sklearn/naive_bayes.py\u001b[0m in \u001b[0;36mpredict\u001b[0;34m(self, X)\u001b[0m\n\u001b[1;32m     76\u001b[0m         \u001b[0mcheck_is_fitted\u001b[0m\u001b[0;34m(\u001b[0m\u001b[0mself\u001b[0m\u001b[0;34m)\u001b[0m\u001b[0;34m\u001b[0m\u001b[0;34m\u001b[0m\u001b[0m\n\u001b[1;32m     77\u001b[0m         \u001b[0mX\u001b[0m \u001b[0;34m=\u001b[0m \u001b[0mself\u001b[0m\u001b[0;34m.\u001b[0m\u001b[0m_check_X\u001b[0m\u001b[0;34m(\u001b[0m\u001b[0mX\u001b[0m\u001b[0;34m)\u001b[0m\u001b[0;34m\u001b[0m\u001b[0;34m\u001b[0m\u001b[0m\n\u001b[0;32m---> 78\u001b[0;31m         \u001b[0mjll\u001b[0m \u001b[0;34m=\u001b[0m \u001b[0mself\u001b[0m\u001b[0;34m.\u001b[0m\u001b[0m_joint_log_likelihood\u001b[0m\u001b[0;34m(\u001b[0m\u001b[0mX\u001b[0m\u001b[0;34m)\u001b[0m\u001b[0;34m\u001b[0m\u001b[0;34m\u001b[0m\u001b[0m\n\u001b[0m\u001b[1;32m     79\u001b[0m         \u001b[0;32mreturn\u001b[0m \u001b[0mself\u001b[0m\u001b[0;34m.\u001b[0m\u001b[0mclasses_\u001b[0m\u001b[0;34m[\u001b[0m\u001b[0mnp\u001b[0m\u001b[0;34m.\u001b[0m\u001b[0margmax\u001b[0m\u001b[0;34m(\u001b[0m\u001b[0mjll\u001b[0m\u001b[0;34m,\u001b[0m \u001b[0maxis\u001b[0m\u001b[0;34m=\u001b[0m\u001b[0;36m1\u001b[0m\u001b[0;34m)\u001b[0m\u001b[0;34m]\u001b[0m\u001b[0;34m\u001b[0m\u001b[0;34m\u001b[0m\u001b[0m\n\u001b[1;32m     80\u001b[0m \u001b[0;34m\u001b[0m\u001b[0m\n",
      "\u001b[0;32m~/.local/lib/python3.6/site-packages/sklearn/naive_bayes.py\u001b[0m in \u001b[0;36m_joint_log_likelihood\u001b[0;34m(self, X)\u001b[0m\n\u001b[1;32m    775\u001b[0m     \u001b[0;32mdef\u001b[0m \u001b[0m_joint_log_likelihood\u001b[0m\u001b[0;34m(\u001b[0m\u001b[0mself\u001b[0m\u001b[0;34m,\u001b[0m \u001b[0mX\u001b[0m\u001b[0;34m)\u001b[0m\u001b[0;34m:\u001b[0m\u001b[0;34m\u001b[0m\u001b[0;34m\u001b[0m\u001b[0m\n\u001b[1;32m    776\u001b[0m         \u001b[0;34m\"\"\"Calculate the posterior log probability of the samples X\"\"\"\u001b[0m\u001b[0;34m\u001b[0m\u001b[0;34m\u001b[0m\u001b[0m\n\u001b[0;32m--> 777\u001b[0;31m         return (safe_sparse_dot(X, self.feature_log_prob_.T) +\n\u001b[0m\u001b[1;32m    778\u001b[0m                 self.class_log_prior_)\n\u001b[1;32m    779\u001b[0m \u001b[0;34m\u001b[0m\u001b[0m\n",
      "\u001b[0;32m~/.local/lib/python3.6/site-packages/sklearn/utils/validation.py\u001b[0m in \u001b[0;36minner_f\u001b[0;34m(*args, **kwargs)\u001b[0m\n\u001b[1;32m     71\u001b[0m                           FutureWarning)\n\u001b[1;32m     72\u001b[0m         \u001b[0mkwargs\u001b[0m\u001b[0;34m.\u001b[0m\u001b[0mupdate\u001b[0m\u001b[0;34m(\u001b[0m\u001b[0;34m{\u001b[0m\u001b[0mk\u001b[0m\u001b[0;34m:\u001b[0m \u001b[0marg\u001b[0m \u001b[0;32mfor\u001b[0m \u001b[0mk\u001b[0m\u001b[0;34m,\u001b[0m \u001b[0marg\u001b[0m \u001b[0;32min\u001b[0m \u001b[0mzip\u001b[0m\u001b[0;34m(\u001b[0m\u001b[0msig\u001b[0m\u001b[0;34m.\u001b[0m\u001b[0mparameters\u001b[0m\u001b[0;34m,\u001b[0m \u001b[0margs\u001b[0m\u001b[0;34m)\u001b[0m\u001b[0;34m}\u001b[0m\u001b[0;34m)\u001b[0m\u001b[0;34m\u001b[0m\u001b[0;34m\u001b[0m\u001b[0m\n\u001b[0;32m---> 73\u001b[0;31m         \u001b[0;32mreturn\u001b[0m \u001b[0mf\u001b[0m\u001b[0;34m(\u001b[0m\u001b[0;34m**\u001b[0m\u001b[0mkwargs\u001b[0m\u001b[0;34m)\u001b[0m\u001b[0;34m\u001b[0m\u001b[0;34m\u001b[0m\u001b[0m\n\u001b[0m\u001b[1;32m     74\u001b[0m     \u001b[0;32mreturn\u001b[0m \u001b[0minner_f\u001b[0m\u001b[0;34m\u001b[0m\u001b[0;34m\u001b[0m\u001b[0m\n\u001b[1;32m     75\u001b[0m \u001b[0;34m\u001b[0m\u001b[0m\n",
      "\u001b[0;32m~/.local/lib/python3.6/site-packages/sklearn/utils/extmath.py\u001b[0m in \u001b[0;36msafe_sparse_dot\u001b[0;34m(a, b, dense_output)\u001b[0m\n\u001b[1;32m    151\u001b[0m             \u001b[0mret\u001b[0m \u001b[0;34m=\u001b[0m \u001b[0mnp\u001b[0m\u001b[0;34m.\u001b[0m\u001b[0mdot\u001b[0m\u001b[0;34m(\u001b[0m\u001b[0ma\u001b[0m\u001b[0;34m,\u001b[0m \u001b[0mb\u001b[0m\u001b[0;34m)\u001b[0m\u001b[0;34m\u001b[0m\u001b[0;34m\u001b[0m\u001b[0m\n\u001b[1;32m    152\u001b[0m     \u001b[0;32melse\u001b[0m\u001b[0;34m:\u001b[0m\u001b[0;34m\u001b[0m\u001b[0;34m\u001b[0m\u001b[0m\n\u001b[0;32m--> 153\u001b[0;31m         \u001b[0mret\u001b[0m \u001b[0;34m=\u001b[0m \u001b[0ma\u001b[0m \u001b[0;34m@\u001b[0m \u001b[0mb\u001b[0m\u001b[0;34m\u001b[0m\u001b[0;34m\u001b[0m\u001b[0m\n\u001b[0m\u001b[1;32m    154\u001b[0m \u001b[0;34m\u001b[0m\u001b[0m\n\u001b[1;32m    155\u001b[0m     if (sparse.issparse(a) and sparse.issparse(b)\n",
      "\u001b[0;32m~/.local/lib/python3.6/site-packages/scipy/sparse/base.py\u001b[0m in \u001b[0;36m__matmul__\u001b[0;34m(self, other)\u001b[0m\n\u001b[1;32m    562\u001b[0m             raise ValueError(\"Scalar operands are not allowed, \"\n\u001b[1;32m    563\u001b[0m                              \"use '*' instead\")\n\u001b[0;32m--> 564\u001b[0;31m         \u001b[0;32mreturn\u001b[0m \u001b[0mself\u001b[0m\u001b[0;34m.\u001b[0m\u001b[0m__mul__\u001b[0m\u001b[0;34m(\u001b[0m\u001b[0mother\u001b[0m\u001b[0;34m)\u001b[0m\u001b[0;34m\u001b[0m\u001b[0;34m\u001b[0m\u001b[0m\n\u001b[0m\u001b[1;32m    565\u001b[0m \u001b[0;34m\u001b[0m\u001b[0m\n\u001b[1;32m    566\u001b[0m     \u001b[0;32mdef\u001b[0m \u001b[0m__rmatmul__\u001b[0m\u001b[0;34m(\u001b[0m\u001b[0mself\u001b[0m\u001b[0;34m,\u001b[0m \u001b[0mother\u001b[0m\u001b[0;34m)\u001b[0m\u001b[0;34m:\u001b[0m\u001b[0;34m\u001b[0m\u001b[0;34m\u001b[0m\u001b[0m\n",
      "\u001b[0;32m~/.local/lib/python3.6/site-packages/scipy/sparse/base.py\u001b[0m in \u001b[0;36m__mul__\u001b[0;34m(self, other)\u001b[0m\n\u001b[1;32m    518\u001b[0m \u001b[0;34m\u001b[0m\u001b[0m\n\u001b[1;32m    519\u001b[0m             \u001b[0;32mif\u001b[0m \u001b[0mother\u001b[0m\u001b[0;34m.\u001b[0m\u001b[0mshape\u001b[0m\u001b[0;34m[\u001b[0m\u001b[0;36m0\u001b[0m\u001b[0;34m]\u001b[0m \u001b[0;34m!=\u001b[0m \u001b[0mself\u001b[0m\u001b[0;34m.\u001b[0m\u001b[0mshape\u001b[0m\u001b[0;34m[\u001b[0m\u001b[0;36m1\u001b[0m\u001b[0;34m]\u001b[0m\u001b[0;34m:\u001b[0m\u001b[0;34m\u001b[0m\u001b[0;34m\u001b[0m\u001b[0m\n\u001b[0;32m--> 520\u001b[0;31m                 \u001b[0;32mraise\u001b[0m \u001b[0mValueError\u001b[0m\u001b[0;34m(\u001b[0m\u001b[0;34m'dimension mismatch'\u001b[0m\u001b[0;34m)\u001b[0m\u001b[0;34m\u001b[0m\u001b[0;34m\u001b[0m\u001b[0m\n\u001b[0m\u001b[1;32m    521\u001b[0m \u001b[0;34m\u001b[0m\u001b[0m\n\u001b[1;32m    522\u001b[0m             \u001b[0mresult\u001b[0m \u001b[0;34m=\u001b[0m \u001b[0mself\u001b[0m\u001b[0;34m.\u001b[0m\u001b[0m_mul_multivector\u001b[0m\u001b[0;34m(\u001b[0m\u001b[0mnp\u001b[0m\u001b[0;34m.\u001b[0m\u001b[0masarray\u001b[0m\u001b[0;34m(\u001b[0m\u001b[0mother\u001b[0m\u001b[0;34m)\u001b[0m\u001b[0;34m)\u001b[0m\u001b[0;34m\u001b[0m\u001b[0;34m\u001b[0m\u001b[0m\n",
      "\u001b[0;31mValueError\u001b[0m: dimension mismatch"
     ]
    }
   ],
   "source": [
    "y_body_train_pred = nb_body.predict(x_body_tfidf)"
   ]
  },
  {
   "cell_type": "code",
   "execution_count": null,
   "metadata": {},
   "outputs": [],
   "source": []
  }
 ],
 "metadata": {
  "kernelspec": {
   "display_name": "Python 3",
   "language": "python",
   "name": "python3"
  },
  "language_info": {
   "codemirror_mode": {
    "name": "ipython",
    "version": 3
   },
   "file_extension": ".py",
   "mimetype": "text/x-python",
   "name": "python",
   "nbconvert_exporter": "python",
   "pygments_lexer": "ipython3",
   "version": "3.6.8"
  }
 },
 "nbformat": 4,
 "nbformat_minor": 4
}
