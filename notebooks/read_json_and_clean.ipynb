{
 "cells": [
  {
   "cell_type": "code",
   "execution_count": 1,
   "metadata": {},
   "outputs": [],
   "source": [
    "import json\n",
    "import pandas as pd\n",
    "import numpy as np"
   ]
  },
  {
   "cell_type": "code",
   "execution_count": 2,
   "metadata": {},
   "outputs": [],
   "source": [
    "#program to read json file and to convert it to a Dataframe\n",
    "#first print the name of newspaper sites"
   ]
  },
  {
   "cell_type": "code",
   "execution_count": 4,
   "metadata": {},
   "outputs": [
    {
     "name": "stdout",
     "output_type": "stream",
     "text": [
      "0 newyorktimes_business\n",
      "1 newyorktimes_science\n",
      "2 newyorktimes_technology\n",
      "3 cnbc_top_news\n",
      "4 cnbc_investing\n",
      "5 entrepreneur_latest\n",
      "6 entrepreneur_marketing\n",
      "7 fivethirtyeight_science\n",
      "8 fivethirtyeight_economics\n",
      "9 theguardian\n",
      "10 washington_post\n",
      "11 americanflavor\n",
      "12 bb4sp\n",
      "13 beforeitsnews\n",
      "14 clashdaily\n",
      "15 conservativedailypost\n",
      "16 dailybuzzlive\n",
      "17 corporatedispatch\n",
      "18 dailysurge\n",
      "19 democraticunderground\n",
      "20 en-volve\n",
      "21 newspunch\n",
      "22 usasupreme\n"
     ]
    }
   ],
   "source": [
    "fname = '../scrapper/scraped_articles.json'\n",
    "with open(fname) as json_data:\n",
    "    d = json.load(json_data)\n",
    "for i, site in enumerate((list(d['newspapers'])[:])):\n",
    "    print(i,site)"
   ]
  },
  {
   "cell_type": "code",
   "execution_count": 5,
   "metadata": {},
   "outputs": [
    {
     "data": {
      "text/html": [
       "<div>\n",
       "<style scoped>\n",
       "    .dataframe tbody tr th:only-of-type {\n",
       "        vertical-align: middle;\n",
       "    }\n",
       "\n",
       "    .dataframe tbody tr th {\n",
       "        vertical-align: top;\n",
       "    }\n",
       "\n",
       "    .dataframe thead th {\n",
       "        text-align: right;\n",
       "    }\n",
       "</style>\n",
       "<table border=\"1\" class=\"dataframe\">\n",
       "  <thead>\n",
       "    <tr style=\"text-align: right;\">\n",
       "      <th></th>\n",
       "      <th>title</th>\n",
       "      <th>text</th>\n",
       "      <th>link</th>\n",
       "      <th>author</th>\n",
       "    </tr>\n",
       "  </thead>\n",
       "  <tbody>\n",
       "    <tr>\n",
       "      <th>0</th>\n",
       "      <td>A Collapse That Wiped Out 5 Years of Growth, W...</td>\n",
       "      <td>“Not only have we plateaued, but we may be los...</td>\n",
       "      <td>https://www.nytimes.com/2020/07/30/business/ec...</td>\n",
       "      <td>[Ben Casselman]</td>\n",
       "    </tr>\n",
       "    <tr>\n",
       "      <th>1</th>\n",
       "      <td>Grilled by Lawmakers, Big Tech Turns Up the Ga...</td>\n",
       "      <td>“I don’t know the specifics of that situation,...</td>\n",
       "      <td>https://www.nytimes.com/2020/07/30/technology/...</td>\n",
       "      <td>[Kevin Roose]</td>\n",
       "    </tr>\n",
       "    <tr>\n",
       "      <th>2</th>\n",
       "      <td>How Pimco’s Cayman-Based Hedge Fund Can Profit...</td>\n",
       "      <td>WASHINGTON — Pacific Investment Management Com...</td>\n",
       "      <td>https://www.nytimes.com/2020/07/30/business/ec...</td>\n",
       "      <td>[Jeanna Smialek]</td>\n",
       "    </tr>\n",
       "    <tr>\n",
       "      <th>3</th>\n",
       "      <td>Big Tech Earnings Surge as Economy Slumps</td>\n",
       "      <td>Live Updated July 30, 2020, 8:22 p.m. ET July ...</td>\n",
       "      <td>https://www.nytimes.com/live/2020/07/30/busine...</td>\n",
       "      <td>[Mike Isaac, Karen Weise, Daisuke Wakabayashi,...</td>\n",
       "    </tr>\n",
       "    <tr>\n",
       "      <th>4</th>\n",
       "      <td>‘This Is a New Phase’: Europe Shifts Tactics t...</td>\n",
       "      <td>LONDON — European Union leaders are pursuing a...</td>\n",
       "      <td>https://www.nytimes.com/2020/07/30/technology/...</td>\n",
       "      <td>[Adam Satariano]</td>\n",
       "    </tr>\n",
       "    <tr>\n",
       "      <th>...</th>\n",
       "      <td>...</td>\n",
       "      <td>...</td>\n",
       "      <td>...</td>\n",
       "      <td>...</td>\n",
       "    </tr>\n",
       "    <tr>\n",
       "      <th>799</th>\n",
       "      <td>BREAKING! This Revolutionary Cancer-Killing Tr...</td>\n",
       "      <td>This is the future of medicine. Novartis Pharm...</td>\n",
       "      <td>https://www.usasupreme.com/breaking-revolution...</td>\n",
       "      <td>[Alex D., Alex D Is A Conservative Journalist,...</td>\n",
       "    </tr>\n",
       "    <tr>\n",
       "      <th>800</th>\n",
       "      <td>This Magic Mushroom Compound Will Help Treat D...</td>\n",
       "      <td>Science is definitely amazing!\\n\\nNature is ab...</td>\n",
       "      <td>https://www.usasupreme.com/magic-mushroom-comp...</td>\n",
       "      <td>[Natalie D., Natalie D. Is An American Conserv...</td>\n",
       "    </tr>\n",
       "    <tr>\n",
       "      <th>801</th>\n",
       "      <td>This Magic Mushroom Compound Will Help Treat D...</td>\n",
       "      <td>Science is definitely amazing!\\n\\nNature is ab...</td>\n",
       "      <td>https://www.usasupreme.com/magic-mushroom-comp...</td>\n",
       "      <td>[Natalie D., Natalie D. Is An American Conserv...</td>\n",
       "    </tr>\n",
       "    <tr>\n",
       "      <th>802</th>\n",
       "      <td>Trump Appoint Hollywood Legend To Be The Head ...</td>\n",
       "      <td>Presiden Trump made serious changes in the Whi...</td>\n",
       "      <td>https://www.usasupreme.com/trump-appoint-holly...</td>\n",
       "      <td>[Alex D., Alex D Is A Conservative Journalist,...</td>\n",
       "    </tr>\n",
       "    <tr>\n",
       "      <th>803</th>\n",
       "      <td>Trump Appoint Hollywood Legend To Be The Head ...</td>\n",
       "      <td>Presiden Trump made serious changes in the Whi...</td>\n",
       "      <td>https://www.usasupreme.com/trump-appoint-holly...</td>\n",
       "      <td>[Alex D., Alex D Is A Conservative Journalist,...</td>\n",
       "    </tr>\n",
       "  </tbody>\n",
       "</table>\n",
       "<p>804 rows × 4 columns</p>\n",
       "</div>"
      ],
      "text/plain": [
       "                                                 title  \\\n",
       "0    A Collapse That Wiped Out 5 Years of Growth, W...   \n",
       "1    Grilled by Lawmakers, Big Tech Turns Up the Ga...   \n",
       "2    How Pimco’s Cayman-Based Hedge Fund Can Profit...   \n",
       "3            Big Tech Earnings Surge as Economy Slumps   \n",
       "4    ‘This Is a New Phase’: Europe Shifts Tactics t...   \n",
       "..                                                 ...   \n",
       "799  BREAKING! This Revolutionary Cancer-Killing Tr...   \n",
       "800  This Magic Mushroom Compound Will Help Treat D...   \n",
       "801  This Magic Mushroom Compound Will Help Treat D...   \n",
       "802  Trump Appoint Hollywood Legend To Be The Head ...   \n",
       "803  Trump Appoint Hollywood Legend To Be The Head ...   \n",
       "\n",
       "                                                  text  \\\n",
       "0    “Not only have we plateaued, but we may be los...   \n",
       "1    “I don’t know the specifics of that situation,...   \n",
       "2    WASHINGTON — Pacific Investment Management Com...   \n",
       "3    Live Updated July 30, 2020, 8:22 p.m. ET July ...   \n",
       "4    LONDON — European Union leaders are pursuing a...   \n",
       "..                                                 ...   \n",
       "799  This is the future of medicine. Novartis Pharm...   \n",
       "800  Science is definitely amazing!\\n\\nNature is ab...   \n",
       "801  Science is definitely amazing!\\n\\nNature is ab...   \n",
       "802  Presiden Trump made serious changes in the Whi...   \n",
       "803  Presiden Trump made serious changes in the Whi...   \n",
       "\n",
       "                                                  link  \\\n",
       "0    https://www.nytimes.com/2020/07/30/business/ec...   \n",
       "1    https://www.nytimes.com/2020/07/30/technology/...   \n",
       "2    https://www.nytimes.com/2020/07/30/business/ec...   \n",
       "3    https://www.nytimes.com/live/2020/07/30/busine...   \n",
       "4    https://www.nytimes.com/2020/07/30/technology/...   \n",
       "..                                                 ...   \n",
       "799  https://www.usasupreme.com/breaking-revolution...   \n",
       "800  https://www.usasupreme.com/magic-mushroom-comp...   \n",
       "801  https://www.usasupreme.com/magic-mushroom-comp...   \n",
       "802  https://www.usasupreme.com/trump-appoint-holly...   \n",
       "803  https://www.usasupreme.com/trump-appoint-holly...   \n",
       "\n",
       "                                                author  \n",
       "0                                      [Ben Casselman]  \n",
       "1                                        [Kevin Roose]  \n",
       "2                                     [Jeanna Smialek]  \n",
       "3    [Mike Isaac, Karen Weise, Daisuke Wakabayashi,...  \n",
       "4                                     [Adam Satariano]  \n",
       "..                                                 ...  \n",
       "799  [Alex D., Alex D Is A Conservative Journalist,...  \n",
       "800  [Natalie D., Natalie D. Is An American Conserv...  \n",
       "801  [Natalie D., Natalie D. Is An American Conserv...  \n",
       "802  [Alex D., Alex D Is A Conservative Journalist,...  \n",
       "803  [Alex D., Alex D Is A Conservative Journalist,...  \n",
       "\n",
       "[804 rows x 4 columns]"
      ]
     },
     "execution_count": 5,
     "metadata": {},
     "output_type": "execute_result"
    }
   ],
   "source": [
    "for i, site in enumerate((list(d['newspapers']))):\n",
    "\tarticles = list(d['newspapers'][site]['articles'])\n",
    "\tif i==0:\n",
    "\t\tdf = pd.DataFrame.from_dict(articles)\n",
    "\telse:\n",
    "\t\tnew_df = pd.DataFrame.from_dict(articles)\n",
    "\t\tdf = pd.concat([df, new_df], ignore_index = True)\n",
    "df"
   ]
  },
  {
   "cell_type": "code",
   "execution_count": 8,
   "metadata": {},
   "outputs": [],
   "source": [
    "df.to_pickle('/home/yogibaba/Desktop/ivi/final project/savedFiles/dirty_df.pkl')"
   ]
  },
  {
   "cell_type": "code",
   "execution_count": 10,
   "metadata": {},
   "outputs": [],
   "source": [
    "# list of spam sites\n",
    "spam = list(d['newspapers'])[-12:]"
   ]
  },
  {
   "cell_type": "code",
   "execution_count": 11,
   "metadata": {},
   "outputs": [],
   "source": [
    "# create a column for the label of the article, a label of 0 is ham, a label of 1 is spam\n",
    "df['label'] = 0"
   ]
  },
  {
   "cell_type": "code",
   "execution_count": 12,
   "metadata": {},
   "outputs": [],
   "source": [
    "for i, site in enumerate(spam):\n",
    "    df.loc[df['link'].str.contains('{}'.format(site)), 'label'] = 1"
   ]
  },
  {
   "cell_type": "code",
   "execution_count": 13,
   "metadata": {},
   "outputs": [
    {
     "data": {
      "text/html": [
       "<div>\n",
       "<style scoped>\n",
       "    .dataframe tbody tr th:only-of-type {\n",
       "        vertical-align: middle;\n",
       "    }\n",
       "\n",
       "    .dataframe tbody tr th {\n",
       "        vertical-align: top;\n",
       "    }\n",
       "\n",
       "    .dataframe thead th {\n",
       "        text-align: right;\n",
       "    }\n",
       "</style>\n",
       "<table border=\"1\" class=\"dataframe\">\n",
       "  <thead>\n",
       "    <tr style=\"text-align: right;\">\n",
       "      <th></th>\n",
       "      <th>title</th>\n",
       "    </tr>\n",
       "    <tr>\n",
       "      <th>label</th>\n",
       "      <th></th>\n",
       "    </tr>\n",
       "  </thead>\n",
       "  <tbody>\n",
       "    <tr>\n",
       "      <th>0</th>\n",
       "      <td>590</td>\n",
       "    </tr>\n",
       "    <tr>\n",
       "      <th>1</th>\n",
       "      <td>214</td>\n",
       "    </tr>\n",
       "  </tbody>\n",
       "</table>\n",
       "</div>"
      ],
      "text/plain": [
       "       title\n",
       "label       \n",
       "0        590\n",
       "1        214"
      ]
     },
     "execution_count": 13,
     "metadata": {},
     "output_type": "execute_result"
    }
   ],
   "source": [
    "# 463 non spam articles, 168 spam articles\n",
    "df[['title', 'label']].groupby('label').agg('count')"
   ]
  },
  {
   "cell_type": "code",
   "execution_count": null,
   "metadata": {},
   "outputs": [],
   "source": []
  },
  {
   "cell_type": "code",
   "execution_count": 20,
   "metadata": {},
   "outputs": [],
   "source": [
    "# python module for cleaning!\n",
    "%run ../data_cleaning/cleaning_helper.py"
   ]
  },
  {
   "cell_type": "code",
   "execution_count": 21,
   "metadata": {},
   "outputs": [],
   "source": [
    "finaldf = df.copy()"
   ]
  },
  {
   "cell_type": "code",
   "execution_count": 22,
   "metadata": {},
   "outputs": [],
   "source": [
    "# function imported from python module"
   ]
  },
  {
   "cell_type": "code",
   "execution_count": 23,
   "metadata": {},
   "outputs": [],
   "source": [
    "finaldf = clean_column(finaldf, 'title', 'clean_title')"
   ]
  },
  {
   "cell_type": "code",
   "execution_count": 24,
   "metadata": {},
   "outputs": [],
   "source": [
    "finaldf = clean_column(finaldf, 'text', 'clean_text')"
   ]
  },
  {
   "cell_type": "code",
   "execution_count": 25,
   "metadata": {},
   "outputs": [
    {
     "data": {
      "text/html": [
       "<div>\n",
       "<style scoped>\n",
       "    .dataframe tbody tr th:only-of-type {\n",
       "        vertical-align: middle;\n",
       "    }\n",
       "\n",
       "    .dataframe tbody tr th {\n",
       "        vertical-align: top;\n",
       "    }\n",
       "\n",
       "    .dataframe thead th {\n",
       "        text-align: right;\n",
       "    }\n",
       "</style>\n",
       "<table border=\"1\" class=\"dataframe\">\n",
       "  <thead>\n",
       "    <tr style=\"text-align: right;\">\n",
       "      <th></th>\n",
       "      <th>title</th>\n",
       "      <th>text</th>\n",
       "      <th>link</th>\n",
       "      <th>author</th>\n",
       "      <th>label</th>\n",
       "      <th>clean_title</th>\n",
       "      <th>clean_text</th>\n",
       "    </tr>\n",
       "  </thead>\n",
       "  <tbody>\n",
       "    <tr>\n",
       "      <th>0</th>\n",
       "      <td>A Collapse That Wiped Out 5 Years of Growth, W...</td>\n",
       "      <td>“Not only have we plateaued, but we may be los...</td>\n",
       "      <td>https://www.nytimes.com/2020/07/30/business/ec...</td>\n",
       "      <td>[Ben Casselman]</td>\n",
       "      <td>0</td>\n",
       "      <td>collapse wiped years growth bounce sight</td>\n",
       "      <td>plateaued may losing ground said diane swonk ...</td>\n",
       "    </tr>\n",
       "    <tr>\n",
       "      <th>1</th>\n",
       "      <td>Grilled by Lawmakers, Big Tech Turns Up the Ga...</td>\n",
       "      <td>“I don’t know the specifics of that situation,...</td>\n",
       "      <td>https://www.nytimes.com/2020/07/30/technology/...</td>\n",
       "      <td>[Kevin Roose]</td>\n",
       "      <td>0</td>\n",
       "      <td>grilled lawmakers big tech turns gaslight</td>\n",
       "      <td>know specifics situation mr bezos replied ano...</td>\n",
       "    </tr>\n",
       "    <tr>\n",
       "      <th>2</th>\n",
       "      <td>How Pimco’s Cayman-Based Hedge Fund Can Profit...</td>\n",
       "      <td>WASHINGTON — Pacific Investment Management Com...</td>\n",
       "      <td>https://www.nytimes.com/2020/07/30/business/ec...</td>\n",
       "      <td>[Jeanna Smialek]</td>\n",
       "      <td>0</td>\n",
       "      <td>pimco cayman based hedge fund profit fed rescue</td>\n",
       "      <td>washington pacific investment management comp...</td>\n",
       "    </tr>\n",
       "    <tr>\n",
       "      <th>3</th>\n",
       "      <td>Big Tech Earnings Surge as Economy Slumps</td>\n",
       "      <td>Live Updated July 30, 2020, 8:22 p.m. ET July ...</td>\n",
       "      <td>https://www.nytimes.com/live/2020/07/30/busine...</td>\n",
       "      <td>[Mike Isaac, Karen Weise, Daisuke Wakabayashi,...</td>\n",
       "      <td>0</td>\n",
       "      <td>big tech earnings surge economy slumps</td>\n",
       "      <td>live updated july p et july p et big tech ear...</td>\n",
       "    </tr>\n",
       "    <tr>\n",
       "      <th>4</th>\n",
       "      <td>‘This Is a New Phase’: Europe Shifts Tactics t...</td>\n",
       "      <td>LONDON — European Union leaders are pursuing a...</td>\n",
       "      <td>https://www.nytimes.com/2020/07/30/technology/...</td>\n",
       "      <td>[Adam Satariano]</td>\n",
       "      <td>0</td>\n",
       "      <td>new phase europe shifts tactics limit tech power</td>\n",
       "      <td>london european union leaders pursuing new la...</td>\n",
       "    </tr>\n",
       "  </tbody>\n",
       "</table>\n",
       "</div>"
      ],
      "text/plain": [
       "                                               title  \\\n",
       "0  A Collapse That Wiped Out 5 Years of Growth, W...   \n",
       "1  Grilled by Lawmakers, Big Tech Turns Up the Ga...   \n",
       "2  How Pimco’s Cayman-Based Hedge Fund Can Profit...   \n",
       "3          Big Tech Earnings Surge as Economy Slumps   \n",
       "4  ‘This Is a New Phase’: Europe Shifts Tactics t...   \n",
       "\n",
       "                                                text  \\\n",
       "0  “Not only have we plateaued, but we may be los...   \n",
       "1  “I don’t know the specifics of that situation,...   \n",
       "2  WASHINGTON — Pacific Investment Management Com...   \n",
       "3  Live Updated July 30, 2020, 8:22 p.m. ET July ...   \n",
       "4  LONDON — European Union leaders are pursuing a...   \n",
       "\n",
       "                                                link  \\\n",
       "0  https://www.nytimes.com/2020/07/30/business/ec...   \n",
       "1  https://www.nytimes.com/2020/07/30/technology/...   \n",
       "2  https://www.nytimes.com/2020/07/30/business/ec...   \n",
       "3  https://www.nytimes.com/live/2020/07/30/busine...   \n",
       "4  https://www.nytimes.com/2020/07/30/technology/...   \n",
       "\n",
       "                                              author  label  \\\n",
       "0                                    [Ben Casselman]      0   \n",
       "1                                      [Kevin Roose]      0   \n",
       "2                                   [Jeanna Smialek]      0   \n",
       "3  [Mike Isaac, Karen Weise, Daisuke Wakabayashi,...      0   \n",
       "4                                   [Adam Satariano]      0   \n",
       "\n",
       "                                         clean_title  \\\n",
       "0           collapse wiped years growth bounce sight   \n",
       "1          grilled lawmakers big tech turns gaslight   \n",
       "2    pimco cayman based hedge fund profit fed rescue   \n",
       "3             big tech earnings surge economy slumps   \n",
       "4   new phase europe shifts tactics limit tech power   \n",
       "\n",
       "                                          clean_text  \n",
       "0   plateaued may losing ground said diane swonk ...  \n",
       "1   know specifics situation mr bezos replied ano...  \n",
       "2   washington pacific investment management comp...  \n",
       "3   live updated july p et july p et big tech ear...  \n",
       "4   london european union leaders pursuing new la...  "
      ]
     },
     "execution_count": 25,
     "metadata": {},
     "output_type": "execute_result"
    }
   ],
   "source": [
    "finaldf.head()"
   ]
  },
  {
   "cell_type": "code",
   "execution_count": 26,
   "metadata": {},
   "outputs": [],
   "source": [
    "finaldf.to_pickle('/home/yogibaba/Desktop/ivi/final project/savedFiles/cleaned_df.pkl')"
   ]
  },
  {
   "cell_type": "code",
   "execution_count": null,
   "metadata": {},
   "outputs": [],
   "source": []
  },
  {
   "cell_type": "code",
   "execution_count": null,
   "metadata": {
    "scrolled": true
   },
   "outputs": [],
   "source": []
  },
  {
   "cell_type": "code",
   "execution_count": 64,
   "metadata": {},
   "outputs": [],
   "source": [
    "\n",
    "\n"
   ]
  },
  {
   "cell_type": "code",
   "execution_count": null,
   "metadata": {},
   "outputs": [],
   "source": []
  },
  {
   "cell_type": "code",
   "execution_count": 66,
   "metadata": {},
   "outputs": [],
   "source": []
  },
  {
   "cell_type": "code",
   "execution_count": null,
   "metadata": {},
   "outputs": [],
   "source": []
  }
 ],
 "metadata": {
  "kernelspec": {
   "display_name": "Python 3",
   "language": "python",
   "name": "python3"
  },
  "language_info": {
   "codemirror_mode": {
    "name": "ipython",
    "version": 3
   },
   "file_extension": ".py",
   "mimetype": "text/x-python",
   "name": "python",
   "nbconvert_exporter": "python",
   "pygments_lexer": "ipython3",
   "version": "3.6.8"
  }
 },
 "nbformat": 4,
 "nbformat_minor": 4
}
