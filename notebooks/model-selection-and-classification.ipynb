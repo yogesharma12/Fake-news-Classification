{
 "cells": [
  {
   "cell_type": "code",
   "execution_count": 44,
   "metadata": {},
   "outputs": [],
   "source": [
    "import pandas as pd\n",
    "import numpy as np\n",
    "from sklearn.feature_extraction.text import TfidfVectorizer, CountVectorizer\n",
    "\n",
    "\n",
    "# Modeling\n",
    "from sklearn.linear_model import LogisticRegression\n",
    "from sklearn.model_selection import train_test_split, GridSearchCV\n",
    "from sklearn.pipeline import Pipeline\n",
    "from sklearn.naive_bayes import MultinomialNB\n",
    "from sklearn import metrics\n",
    "from sklearn.metrics import accuracy_score, recall_score, precision_score, confusion_matrix"
   ]
  },
  {
   "cell_type": "code",
   "execution_count": 2,
   "metadata": {},
   "outputs": [],
   "source": [
    "df = pd.read_pickle('../savedFiles/cleaned_df.pkl')"
   ]
  },
  {
   "cell_type": "code",
   "execution_count": 3,
   "metadata": {},
   "outputs": [
    {
     "data": {
      "text/html": [
       "<div>\n",
       "<style scoped>\n",
       "    .dataframe tbody tr th:only-of-type {\n",
       "        vertical-align: middle;\n",
       "    }\n",
       "\n",
       "    .dataframe tbody tr th {\n",
       "        vertical-align: top;\n",
       "    }\n",
       "\n",
       "    .dataframe thead th {\n",
       "        text-align: right;\n",
       "    }\n",
       "</style>\n",
       "<table border=\"1\" class=\"dataframe\">\n",
       "  <thead>\n",
       "    <tr style=\"text-align: right;\">\n",
       "      <th></th>\n",
       "      <th>index</th>\n",
       "      <th>title</th>\n",
       "      <th>text</th>\n",
       "      <th>link</th>\n",
       "      <th>author</th>\n",
       "      <th>label</th>\n",
       "      <th>clean_title</th>\n",
       "      <th>clean_text</th>\n",
       "    </tr>\n",
       "  </thead>\n",
       "  <tbody>\n",
       "    <tr>\n",
       "      <th>0</th>\n",
       "      <td>0</td>\n",
       "      <td>A Collapse That Wiped Out 5 Years of Growth, W...</td>\n",
       "      <td>“Not only have we plateaued, but we may be los...</td>\n",
       "      <td>https://www.nytimes.com/2020/07/30/business/ec...</td>\n",
       "      <td>[Ben Casselman]</td>\n",
       "      <td>0</td>\n",
       "      <td>collapse wiped years growth bounce sight</td>\n",
       "      <td>plateaued may losing ground said diane swonk ...</td>\n",
       "    </tr>\n",
       "    <tr>\n",
       "      <th>1</th>\n",
       "      <td>1</td>\n",
       "      <td>Grilled by Lawmakers, Big Tech Turns Up the Ga...</td>\n",
       "      <td>“I don’t know the specifics of that situation,...</td>\n",
       "      <td>https://www.nytimes.com/2020/07/30/technology/...</td>\n",
       "      <td>[Kevin Roose]</td>\n",
       "      <td>0</td>\n",
       "      <td>grilled lawmakers big tech turns gaslight</td>\n",
       "      <td>know specifics situation mr bezos replied ano...</td>\n",
       "    </tr>\n",
       "    <tr>\n",
       "      <th>2</th>\n",
       "      <td>2</td>\n",
       "      <td>How Pimco’s Cayman-Based Hedge Fund Can Profit...</td>\n",
       "      <td>WASHINGTON — Pacific Investment Management Com...</td>\n",
       "      <td>https://www.nytimes.com/2020/07/30/business/ec...</td>\n",
       "      <td>[Jeanna Smialek]</td>\n",
       "      <td>0</td>\n",
       "      <td>pimco cayman based hedge fund profit fed rescue</td>\n",
       "      <td>washington pacific investment management comp...</td>\n",
       "    </tr>\n",
       "    <tr>\n",
       "      <th>3</th>\n",
       "      <td>3</td>\n",
       "      <td>Big Tech Earnings Surge as Economy Slumps</td>\n",
       "      <td>Live Updated July 30, 2020, 8:22 p.m. ET July ...</td>\n",
       "      <td>https://www.nytimes.com/live/2020/07/30/busine...</td>\n",
       "      <td>[Mike Isaac, Karen Weise, Daisuke Wakabayashi,...</td>\n",
       "      <td>0</td>\n",
       "      <td>big tech earnings surge economy slumps</td>\n",
       "      <td>live updated july p et july p et big tech ear...</td>\n",
       "    </tr>\n",
       "    <tr>\n",
       "      <th>4</th>\n",
       "      <td>4</td>\n",
       "      <td>‘This Is a New Phase’: Europe Shifts Tactics t...</td>\n",
       "      <td>LONDON — European Union leaders are pursuing a...</td>\n",
       "      <td>https://www.nytimes.com/2020/07/30/technology/...</td>\n",
       "      <td>[Adam Satariano]</td>\n",
       "      <td>0</td>\n",
       "      <td>new phase europe shifts tactics limit tech power</td>\n",
       "      <td>london european union leaders pursuing new la...</td>\n",
       "    </tr>\n",
       "    <tr>\n",
       "      <th>...</th>\n",
       "      <td>...</td>\n",
       "      <td>...</td>\n",
       "      <td>...</td>\n",
       "      <td>...</td>\n",
       "      <td>...</td>\n",
       "      <td>...</td>\n",
       "      <td>...</td>\n",
       "      <td>...</td>\n",
       "    </tr>\n",
       "    <tr>\n",
       "      <th>799</th>\n",
       "      <td>799</td>\n",
       "      <td>BREAKING! This Revolutionary Cancer-Killing Tr...</td>\n",
       "      <td>This is the future of medicine. Novartis Pharm...</td>\n",
       "      <td>https://www.usasupreme.com/breaking-revolution...</td>\n",
       "      <td>[Alex D., Alex D Is A Conservative Journalist,...</td>\n",
       "      <td>1</td>\n",
       "      <td>breaking revolutionary cancer killing treatme...</td>\n",
       "      <td>future medicine novartis pharmaceuticals comp...</td>\n",
       "    </tr>\n",
       "    <tr>\n",
       "      <th>800</th>\n",
       "      <td>800</td>\n",
       "      <td>This Magic Mushroom Compound Will Help Treat D...</td>\n",
       "      <td>Science is definitely amazing!\\n\\nNature is ab...</td>\n",
       "      <td>https://www.usasupreme.com/magic-mushroom-comp...</td>\n",
       "      <td>[Natalie D., Natalie D. Is An American Conserv...</td>\n",
       "      <td>1</td>\n",
       "      <td>magic mushroom compound help treat depression</td>\n",
       "      <td>science definitely amazing nature abundant tr...</td>\n",
       "    </tr>\n",
       "    <tr>\n",
       "      <th>801</th>\n",
       "      <td>801</td>\n",
       "      <td>This Magic Mushroom Compound Will Help Treat D...</td>\n",
       "      <td>Science is definitely amazing!\\n\\nNature is ab...</td>\n",
       "      <td>https://www.usasupreme.com/magic-mushroom-comp...</td>\n",
       "      <td>[Natalie D., Natalie D. Is An American Conserv...</td>\n",
       "      <td>1</td>\n",
       "      <td>magic mushroom compound help treat depression</td>\n",
       "      <td>science definitely amazing nature abundant tr...</td>\n",
       "    </tr>\n",
       "    <tr>\n",
       "      <th>802</th>\n",
       "      <td>802</td>\n",
       "      <td>Trump Appoint Hollywood Legend To Be The Head ...</td>\n",
       "      <td>Presiden Trump made serious changes in the Whi...</td>\n",
       "      <td>https://www.usasupreme.com/trump-appoint-holly...</td>\n",
       "      <td>[Alex D., Alex D Is A Conservative Journalist,...</td>\n",
       "      <td>1</td>\n",
       "      <td>trump appoint hollywood legend head america f...</td>\n",
       "      <td>presiden trump made serious changes white hou...</td>\n",
       "    </tr>\n",
       "    <tr>\n",
       "      <th>803</th>\n",
       "      <td>803</td>\n",
       "      <td>Trump Appoint Hollywood Legend To Be The Head ...</td>\n",
       "      <td>Presiden Trump made serious changes in the Whi...</td>\n",
       "      <td>https://www.usasupreme.com/trump-appoint-holly...</td>\n",
       "      <td>[Alex D., Alex D Is A Conservative Journalist,...</td>\n",
       "      <td>1</td>\n",
       "      <td>trump appoint hollywood legend head america f...</td>\n",
       "      <td>presiden trump made serious changes white hou...</td>\n",
       "    </tr>\n",
       "  </tbody>\n",
       "</table>\n",
       "<p>804 rows × 8 columns</p>\n",
       "</div>"
      ],
      "text/plain": [
       "     index                                              title  \\\n",
       "0        0  A Collapse That Wiped Out 5 Years of Growth, W...   \n",
       "1        1  Grilled by Lawmakers, Big Tech Turns Up the Ga...   \n",
       "2        2  How Pimco’s Cayman-Based Hedge Fund Can Profit...   \n",
       "3        3          Big Tech Earnings Surge as Economy Slumps   \n",
       "4        4  ‘This Is a New Phase’: Europe Shifts Tactics t...   \n",
       "..     ...                                                ...   \n",
       "799    799  BREAKING! This Revolutionary Cancer-Killing Tr...   \n",
       "800    800  This Magic Mushroom Compound Will Help Treat D...   \n",
       "801    801  This Magic Mushroom Compound Will Help Treat D...   \n",
       "802    802  Trump Appoint Hollywood Legend To Be The Head ...   \n",
       "803    803  Trump Appoint Hollywood Legend To Be The Head ...   \n",
       "\n",
       "                                                  text  \\\n",
       "0    “Not only have we plateaued, but we may be los...   \n",
       "1    “I don’t know the specifics of that situation,...   \n",
       "2    WASHINGTON — Pacific Investment Management Com...   \n",
       "3    Live Updated July 30, 2020, 8:22 p.m. ET July ...   \n",
       "4    LONDON — European Union leaders are pursuing a...   \n",
       "..                                                 ...   \n",
       "799  This is the future of medicine. Novartis Pharm...   \n",
       "800  Science is definitely amazing!\\n\\nNature is ab...   \n",
       "801  Science is definitely amazing!\\n\\nNature is ab...   \n",
       "802  Presiden Trump made serious changes in the Whi...   \n",
       "803  Presiden Trump made serious changes in the Whi...   \n",
       "\n",
       "                                                  link  \\\n",
       "0    https://www.nytimes.com/2020/07/30/business/ec...   \n",
       "1    https://www.nytimes.com/2020/07/30/technology/...   \n",
       "2    https://www.nytimes.com/2020/07/30/business/ec...   \n",
       "3    https://www.nytimes.com/live/2020/07/30/busine...   \n",
       "4    https://www.nytimes.com/2020/07/30/technology/...   \n",
       "..                                                 ...   \n",
       "799  https://www.usasupreme.com/breaking-revolution...   \n",
       "800  https://www.usasupreme.com/magic-mushroom-comp...   \n",
       "801  https://www.usasupreme.com/magic-mushroom-comp...   \n",
       "802  https://www.usasupreme.com/trump-appoint-holly...   \n",
       "803  https://www.usasupreme.com/trump-appoint-holly...   \n",
       "\n",
       "                                                author  label  \\\n",
       "0                                      [Ben Casselman]      0   \n",
       "1                                        [Kevin Roose]      0   \n",
       "2                                     [Jeanna Smialek]      0   \n",
       "3    [Mike Isaac, Karen Weise, Daisuke Wakabayashi,...      0   \n",
       "4                                     [Adam Satariano]      0   \n",
       "..                                                 ...    ...   \n",
       "799  [Alex D., Alex D Is A Conservative Journalist,...      1   \n",
       "800  [Natalie D., Natalie D. Is An American Conserv...      1   \n",
       "801  [Natalie D., Natalie D. Is An American Conserv...      1   \n",
       "802  [Alex D., Alex D Is A Conservative Journalist,...      1   \n",
       "803  [Alex D., Alex D Is A Conservative Journalist,...      1   \n",
       "\n",
       "                                           clean_title  \\\n",
       "0             collapse wiped years growth bounce sight   \n",
       "1            grilled lawmakers big tech turns gaslight   \n",
       "2      pimco cayman based hedge fund profit fed rescue   \n",
       "3               big tech earnings surge economy slumps   \n",
       "4     new phase europe shifts tactics limit tech power   \n",
       "..                                                 ...   \n",
       "799   breaking revolutionary cancer killing treatme...   \n",
       "800      magic mushroom compound help treat depression   \n",
       "801      magic mushroom compound help treat depression   \n",
       "802   trump appoint hollywood legend head america f...   \n",
       "803   trump appoint hollywood legend head america f...   \n",
       "\n",
       "                                            clean_text  \n",
       "0     plateaued may losing ground said diane swonk ...  \n",
       "1     know specifics situation mr bezos replied ano...  \n",
       "2     washington pacific investment management comp...  \n",
       "3     live updated july p et july p et big tech ear...  \n",
       "4     london european union leaders pursuing new la...  \n",
       "..                                                 ...  \n",
       "799   future medicine novartis pharmaceuticals comp...  \n",
       "800   science definitely amazing nature abundant tr...  \n",
       "801   science definitely amazing nature abundant tr...  \n",
       "802   presiden trump made serious changes white hou...  \n",
       "803   presiden trump made serious changes white hou...  \n",
       "\n",
       "[804 rows x 8 columns]"
      ]
     },
     "execution_count": 3,
     "metadata": {},
     "output_type": "execute_result"
    }
   ],
   "source": [
    "df.reset_index()"
   ]
  },
  {
   "cell_type": "code",
   "execution_count": 4,
   "metadata": {},
   "outputs": [],
   "source": [
    "df['fake'] = df['label']"
   ]
  },
  {
   "cell_type": "code",
   "execution_count": 5,
   "metadata": {},
   "outputs": [
    {
     "data": {
      "text/html": [
       "<div>\n",
       "<style scoped>\n",
       "    .dataframe tbody tr th:only-of-type {\n",
       "        vertical-align: middle;\n",
       "    }\n",
       "\n",
       "    .dataframe tbody tr th {\n",
       "        vertical-align: top;\n",
       "    }\n",
       "\n",
       "    .dataframe thead th {\n",
       "        text-align: right;\n",
       "    }\n",
       "</style>\n",
       "<table border=\"1\" class=\"dataframe\">\n",
       "  <thead>\n",
       "    <tr style=\"text-align: right;\">\n",
       "      <th></th>\n",
       "      <th>title</th>\n",
       "      <th>text</th>\n",
       "      <th>link</th>\n",
       "      <th>author</th>\n",
       "      <th>label</th>\n",
       "      <th>clean_title</th>\n",
       "      <th>clean_text</th>\n",
       "      <th>fake</th>\n",
       "    </tr>\n",
       "  </thead>\n",
       "  <tbody>\n",
       "    <tr>\n",
       "      <th>0</th>\n",
       "      <td>A Collapse That Wiped Out 5 Years of Growth, W...</td>\n",
       "      <td>“Not only have we plateaued, but we may be los...</td>\n",
       "      <td>https://www.nytimes.com/2020/07/30/business/ec...</td>\n",
       "      <td>[Ben Casselman]</td>\n",
       "      <td>0</td>\n",
       "      <td>collapse wiped years growth bounce sight</td>\n",
       "      <td>plateaued may losing ground said diane swonk ...</td>\n",
       "      <td>0</td>\n",
       "    </tr>\n",
       "    <tr>\n",
       "      <th>1</th>\n",
       "      <td>Grilled by Lawmakers, Big Tech Turns Up the Ga...</td>\n",
       "      <td>“I don’t know the specifics of that situation,...</td>\n",
       "      <td>https://www.nytimes.com/2020/07/30/technology/...</td>\n",
       "      <td>[Kevin Roose]</td>\n",
       "      <td>0</td>\n",
       "      <td>grilled lawmakers big tech turns gaslight</td>\n",
       "      <td>know specifics situation mr bezos replied ano...</td>\n",
       "      <td>0</td>\n",
       "    </tr>\n",
       "    <tr>\n",
       "      <th>2</th>\n",
       "      <td>How Pimco’s Cayman-Based Hedge Fund Can Profit...</td>\n",
       "      <td>WASHINGTON — Pacific Investment Management Com...</td>\n",
       "      <td>https://www.nytimes.com/2020/07/30/business/ec...</td>\n",
       "      <td>[Jeanna Smialek]</td>\n",
       "      <td>0</td>\n",
       "      <td>pimco cayman based hedge fund profit fed rescue</td>\n",
       "      <td>washington pacific investment management comp...</td>\n",
       "      <td>0</td>\n",
       "    </tr>\n",
       "    <tr>\n",
       "      <th>3</th>\n",
       "      <td>Big Tech Earnings Surge as Economy Slumps</td>\n",
       "      <td>Live Updated July 30, 2020, 8:22 p.m. ET July ...</td>\n",
       "      <td>https://www.nytimes.com/live/2020/07/30/busine...</td>\n",
       "      <td>[Mike Isaac, Karen Weise, Daisuke Wakabayashi,...</td>\n",
       "      <td>0</td>\n",
       "      <td>big tech earnings surge economy slumps</td>\n",
       "      <td>live updated july p et july p et big tech ear...</td>\n",
       "      <td>0</td>\n",
       "    </tr>\n",
       "    <tr>\n",
       "      <th>4</th>\n",
       "      <td>‘This Is a New Phase’: Europe Shifts Tactics t...</td>\n",
       "      <td>LONDON — European Union leaders are pursuing a...</td>\n",
       "      <td>https://www.nytimes.com/2020/07/30/technology/...</td>\n",
       "      <td>[Adam Satariano]</td>\n",
       "      <td>0</td>\n",
       "      <td>new phase europe shifts tactics limit tech power</td>\n",
       "      <td>london european union leaders pursuing new la...</td>\n",
       "      <td>0</td>\n",
       "    </tr>\n",
       "    <tr>\n",
       "      <th>...</th>\n",
       "      <td>...</td>\n",
       "      <td>...</td>\n",
       "      <td>...</td>\n",
       "      <td>...</td>\n",
       "      <td>...</td>\n",
       "      <td>...</td>\n",
       "      <td>...</td>\n",
       "      <td>...</td>\n",
       "    </tr>\n",
       "    <tr>\n",
       "      <th>799</th>\n",
       "      <td>BREAKING! This Revolutionary Cancer-Killing Tr...</td>\n",
       "      <td>This is the future of medicine. Novartis Pharm...</td>\n",
       "      <td>https://www.usasupreme.com/breaking-revolution...</td>\n",
       "      <td>[Alex D., Alex D Is A Conservative Journalist,...</td>\n",
       "      <td>1</td>\n",
       "      <td>breaking revolutionary cancer killing treatme...</td>\n",
       "      <td>future medicine novartis pharmaceuticals comp...</td>\n",
       "      <td>1</td>\n",
       "    </tr>\n",
       "    <tr>\n",
       "      <th>800</th>\n",
       "      <td>This Magic Mushroom Compound Will Help Treat D...</td>\n",
       "      <td>Science is definitely amazing!\\n\\nNature is ab...</td>\n",
       "      <td>https://www.usasupreme.com/magic-mushroom-comp...</td>\n",
       "      <td>[Natalie D., Natalie D. Is An American Conserv...</td>\n",
       "      <td>1</td>\n",
       "      <td>magic mushroom compound help treat depression</td>\n",
       "      <td>science definitely amazing nature abundant tr...</td>\n",
       "      <td>1</td>\n",
       "    </tr>\n",
       "    <tr>\n",
       "      <th>801</th>\n",
       "      <td>This Magic Mushroom Compound Will Help Treat D...</td>\n",
       "      <td>Science is definitely amazing!\\n\\nNature is ab...</td>\n",
       "      <td>https://www.usasupreme.com/magic-mushroom-comp...</td>\n",
       "      <td>[Natalie D., Natalie D. Is An American Conserv...</td>\n",
       "      <td>1</td>\n",
       "      <td>magic mushroom compound help treat depression</td>\n",
       "      <td>science definitely amazing nature abundant tr...</td>\n",
       "      <td>1</td>\n",
       "    </tr>\n",
       "    <tr>\n",
       "      <th>802</th>\n",
       "      <td>Trump Appoint Hollywood Legend To Be The Head ...</td>\n",
       "      <td>Presiden Trump made serious changes in the Whi...</td>\n",
       "      <td>https://www.usasupreme.com/trump-appoint-holly...</td>\n",
       "      <td>[Alex D., Alex D Is A Conservative Journalist,...</td>\n",
       "      <td>1</td>\n",
       "      <td>trump appoint hollywood legend head america f...</td>\n",
       "      <td>presiden trump made serious changes white hou...</td>\n",
       "      <td>1</td>\n",
       "    </tr>\n",
       "    <tr>\n",
       "      <th>803</th>\n",
       "      <td>Trump Appoint Hollywood Legend To Be The Head ...</td>\n",
       "      <td>Presiden Trump made serious changes in the Whi...</td>\n",
       "      <td>https://www.usasupreme.com/trump-appoint-holly...</td>\n",
       "      <td>[Alex D., Alex D Is A Conservative Journalist,...</td>\n",
       "      <td>1</td>\n",
       "      <td>trump appoint hollywood legend head america f...</td>\n",
       "      <td>presiden trump made serious changes white hou...</td>\n",
       "      <td>1</td>\n",
       "    </tr>\n",
       "  </tbody>\n",
       "</table>\n",
       "<p>804 rows × 8 columns</p>\n",
       "</div>"
      ],
      "text/plain": [
       "                                                 title  \\\n",
       "0    A Collapse That Wiped Out 5 Years of Growth, W...   \n",
       "1    Grilled by Lawmakers, Big Tech Turns Up the Ga...   \n",
       "2    How Pimco’s Cayman-Based Hedge Fund Can Profit...   \n",
       "3            Big Tech Earnings Surge as Economy Slumps   \n",
       "4    ‘This Is a New Phase’: Europe Shifts Tactics t...   \n",
       "..                                                 ...   \n",
       "799  BREAKING! This Revolutionary Cancer-Killing Tr...   \n",
       "800  This Magic Mushroom Compound Will Help Treat D...   \n",
       "801  This Magic Mushroom Compound Will Help Treat D...   \n",
       "802  Trump Appoint Hollywood Legend To Be The Head ...   \n",
       "803  Trump Appoint Hollywood Legend To Be The Head ...   \n",
       "\n",
       "                                                  text  \\\n",
       "0    “Not only have we plateaued, but we may be los...   \n",
       "1    “I don’t know the specifics of that situation,...   \n",
       "2    WASHINGTON — Pacific Investment Management Com...   \n",
       "3    Live Updated July 30, 2020, 8:22 p.m. ET July ...   \n",
       "4    LONDON — European Union leaders are pursuing a...   \n",
       "..                                                 ...   \n",
       "799  This is the future of medicine. Novartis Pharm...   \n",
       "800  Science is definitely amazing!\\n\\nNature is ab...   \n",
       "801  Science is definitely amazing!\\n\\nNature is ab...   \n",
       "802  Presiden Trump made serious changes in the Whi...   \n",
       "803  Presiden Trump made serious changes in the Whi...   \n",
       "\n",
       "                                                  link  \\\n",
       "0    https://www.nytimes.com/2020/07/30/business/ec...   \n",
       "1    https://www.nytimes.com/2020/07/30/technology/...   \n",
       "2    https://www.nytimes.com/2020/07/30/business/ec...   \n",
       "3    https://www.nytimes.com/live/2020/07/30/busine...   \n",
       "4    https://www.nytimes.com/2020/07/30/technology/...   \n",
       "..                                                 ...   \n",
       "799  https://www.usasupreme.com/breaking-revolution...   \n",
       "800  https://www.usasupreme.com/magic-mushroom-comp...   \n",
       "801  https://www.usasupreme.com/magic-mushroom-comp...   \n",
       "802  https://www.usasupreme.com/trump-appoint-holly...   \n",
       "803  https://www.usasupreme.com/trump-appoint-holly...   \n",
       "\n",
       "                                                author  label  \\\n",
       "0                                      [Ben Casselman]      0   \n",
       "1                                        [Kevin Roose]      0   \n",
       "2                                     [Jeanna Smialek]      0   \n",
       "3    [Mike Isaac, Karen Weise, Daisuke Wakabayashi,...      0   \n",
       "4                                     [Adam Satariano]      0   \n",
       "..                                                 ...    ...   \n",
       "799  [Alex D., Alex D Is A Conservative Journalist,...      1   \n",
       "800  [Natalie D., Natalie D. Is An American Conserv...      1   \n",
       "801  [Natalie D., Natalie D. Is An American Conserv...      1   \n",
       "802  [Alex D., Alex D Is A Conservative Journalist,...      1   \n",
       "803  [Alex D., Alex D Is A Conservative Journalist,...      1   \n",
       "\n",
       "                                           clean_title  \\\n",
       "0             collapse wiped years growth bounce sight   \n",
       "1            grilled lawmakers big tech turns gaslight   \n",
       "2      pimco cayman based hedge fund profit fed rescue   \n",
       "3               big tech earnings surge economy slumps   \n",
       "4     new phase europe shifts tactics limit tech power   \n",
       "..                                                 ...   \n",
       "799   breaking revolutionary cancer killing treatme...   \n",
       "800      magic mushroom compound help treat depression   \n",
       "801      magic mushroom compound help treat depression   \n",
       "802   trump appoint hollywood legend head america f...   \n",
       "803   trump appoint hollywood legend head america f...   \n",
       "\n",
       "                                            clean_text  fake  \n",
       "0     plateaued may losing ground said diane swonk ...     0  \n",
       "1     know specifics situation mr bezos replied ano...     0  \n",
       "2     washington pacific investment management comp...     0  \n",
       "3     live updated july p et july p et big tech ear...     0  \n",
       "4     london european union leaders pursuing new la...     0  \n",
       "..                                                 ...   ...  \n",
       "799   future medicine novartis pharmaceuticals comp...     1  \n",
       "800   science definitely amazing nature abundant tr...     1  \n",
       "801   science definitely amazing nature abundant tr...     1  \n",
       "802   presiden trump made serious changes white hou...     1  \n",
       "803   presiden trump made serious changes white hou...     1  \n",
       "\n",
       "[804 rows x 8 columns]"
      ]
     },
     "execution_count": 5,
     "metadata": {},
     "output_type": "execute_result"
    }
   ],
   "source": [
    "df"
   ]
  },
  {
   "cell_type": "code",
   "execution_count": 29,
   "metadata": {},
   "outputs": [],
   "source": [
    "copy_df = df.copy()"
   ]
  },
  {
   "cell_type": "code",
   "execution_count": 30,
   "metadata": {},
   "outputs": [
    {
     "data": {
      "text/html": [
       "<div>\n",
       "<style scoped>\n",
       "    .dataframe tbody tr th:only-of-type {\n",
       "        vertical-align: middle;\n",
       "    }\n",
       "\n",
       "    .dataframe tbody tr th {\n",
       "        vertical-align: top;\n",
       "    }\n",
       "\n",
       "    .dataframe thead th {\n",
       "        text-align: right;\n",
       "    }\n",
       "</style>\n",
       "<table border=\"1\" class=\"dataframe\">\n",
       "  <thead>\n",
       "    <tr style=\"text-align: right;\">\n",
       "      <th></th>\n",
       "      <th>title</th>\n",
       "      <th>text</th>\n",
       "      <th>link</th>\n",
       "      <th>author</th>\n",
       "      <th>label</th>\n",
       "      <th>clean_title</th>\n",
       "      <th>clean_text</th>\n",
       "      <th>fake</th>\n",
       "    </tr>\n",
       "  </thead>\n",
       "  <tbody>\n",
       "    <tr>\n",
       "      <th>0</th>\n",
       "      <td>A Collapse That Wiped Out 5 Years of Growth, W...</td>\n",
       "      <td>“Not only have we plateaued, but we may be los...</td>\n",
       "      <td>https://www.nytimes.com/2020/07/30/business/ec...</td>\n",
       "      <td>[Ben Casselman]</td>\n",
       "      <td>0</td>\n",
       "      <td>collapse wiped years growth bounce sight</td>\n",
       "      <td>plateaued may losing ground said diane swonk ...</td>\n",
       "      <td>0</td>\n",
       "    </tr>\n",
       "    <tr>\n",
       "      <th>1</th>\n",
       "      <td>Grilled by Lawmakers, Big Tech Turns Up the Ga...</td>\n",
       "      <td>“I don’t know the specifics of that situation,...</td>\n",
       "      <td>https://www.nytimes.com/2020/07/30/technology/...</td>\n",
       "      <td>[Kevin Roose]</td>\n",
       "      <td>0</td>\n",
       "      <td>grilled lawmakers big tech turns gaslight</td>\n",
       "      <td>know specifics situation mr bezos replied ano...</td>\n",
       "      <td>0</td>\n",
       "    </tr>\n",
       "    <tr>\n",
       "      <th>2</th>\n",
       "      <td>How Pimco’s Cayman-Based Hedge Fund Can Profit...</td>\n",
       "      <td>WASHINGTON — Pacific Investment Management Com...</td>\n",
       "      <td>https://www.nytimes.com/2020/07/30/business/ec...</td>\n",
       "      <td>[Jeanna Smialek]</td>\n",
       "      <td>0</td>\n",
       "      <td>pimco cayman based hedge fund profit fed rescue</td>\n",
       "      <td>washington pacific investment management comp...</td>\n",
       "      <td>0</td>\n",
       "    </tr>\n",
       "    <tr>\n",
       "      <th>3</th>\n",
       "      <td>Big Tech Earnings Surge as Economy Slumps</td>\n",
       "      <td>Live Updated July 30, 2020, 8:22 p.m. ET July ...</td>\n",
       "      <td>https://www.nytimes.com/live/2020/07/30/busine...</td>\n",
       "      <td>[Mike Isaac, Karen Weise, Daisuke Wakabayashi,...</td>\n",
       "      <td>0</td>\n",
       "      <td>big tech earnings surge economy slumps</td>\n",
       "      <td>live updated july p et july p et big tech ear...</td>\n",
       "      <td>0</td>\n",
       "    </tr>\n",
       "    <tr>\n",
       "      <th>4</th>\n",
       "      <td>‘This Is a New Phase’: Europe Shifts Tactics t...</td>\n",
       "      <td>LONDON — European Union leaders are pursuing a...</td>\n",
       "      <td>https://www.nytimes.com/2020/07/30/technology/...</td>\n",
       "      <td>[Adam Satariano]</td>\n",
       "      <td>0</td>\n",
       "      <td>new phase europe shifts tactics limit tech power</td>\n",
       "      <td>london european union leaders pursuing new la...</td>\n",
       "      <td>0</td>\n",
       "    </tr>\n",
       "    <tr>\n",
       "      <th>...</th>\n",
       "      <td>...</td>\n",
       "      <td>...</td>\n",
       "      <td>...</td>\n",
       "      <td>...</td>\n",
       "      <td>...</td>\n",
       "      <td>...</td>\n",
       "      <td>...</td>\n",
       "      <td>...</td>\n",
       "    </tr>\n",
       "    <tr>\n",
       "      <th>799</th>\n",
       "      <td>BREAKING! This Revolutionary Cancer-Killing Tr...</td>\n",
       "      <td>This is the future of medicine. Novartis Pharm...</td>\n",
       "      <td>https://www.usasupreme.com/breaking-revolution...</td>\n",
       "      <td>[Alex D., Alex D Is A Conservative Journalist,...</td>\n",
       "      <td>1</td>\n",
       "      <td>breaking revolutionary cancer killing treatme...</td>\n",
       "      <td>future medicine novartis pharmaceuticals comp...</td>\n",
       "      <td>1</td>\n",
       "    </tr>\n",
       "    <tr>\n",
       "      <th>800</th>\n",
       "      <td>This Magic Mushroom Compound Will Help Treat D...</td>\n",
       "      <td>Science is definitely amazing!\\n\\nNature is ab...</td>\n",
       "      <td>https://www.usasupreme.com/magic-mushroom-comp...</td>\n",
       "      <td>[Natalie D., Natalie D. Is An American Conserv...</td>\n",
       "      <td>1</td>\n",
       "      <td>magic mushroom compound help treat depression</td>\n",
       "      <td>science definitely amazing nature abundant tr...</td>\n",
       "      <td>1</td>\n",
       "    </tr>\n",
       "    <tr>\n",
       "      <th>801</th>\n",
       "      <td>This Magic Mushroom Compound Will Help Treat D...</td>\n",
       "      <td>Science is definitely amazing!\\n\\nNature is ab...</td>\n",
       "      <td>https://www.usasupreme.com/magic-mushroom-comp...</td>\n",
       "      <td>[Natalie D., Natalie D. Is An American Conserv...</td>\n",
       "      <td>1</td>\n",
       "      <td>magic mushroom compound help treat depression</td>\n",
       "      <td>science definitely amazing nature abundant tr...</td>\n",
       "      <td>1</td>\n",
       "    </tr>\n",
       "    <tr>\n",
       "      <th>802</th>\n",
       "      <td>Trump Appoint Hollywood Legend To Be The Head ...</td>\n",
       "      <td>Presiden Trump made serious changes in the Whi...</td>\n",
       "      <td>https://www.usasupreme.com/trump-appoint-holly...</td>\n",
       "      <td>[Alex D., Alex D Is A Conservative Journalist,...</td>\n",
       "      <td>1</td>\n",
       "      <td>trump appoint hollywood legend head america f...</td>\n",
       "      <td>presiden trump made serious changes white hou...</td>\n",
       "      <td>1</td>\n",
       "    </tr>\n",
       "    <tr>\n",
       "      <th>803</th>\n",
       "      <td>Trump Appoint Hollywood Legend To Be The Head ...</td>\n",
       "      <td>Presiden Trump made serious changes in the Whi...</td>\n",
       "      <td>https://www.usasupreme.com/trump-appoint-holly...</td>\n",
       "      <td>[Alex D., Alex D Is A Conservative Journalist,...</td>\n",
       "      <td>1</td>\n",
       "      <td>trump appoint hollywood legend head america f...</td>\n",
       "      <td>presiden trump made serious changes white hou...</td>\n",
       "      <td>1</td>\n",
       "    </tr>\n",
       "  </tbody>\n",
       "</table>\n",
       "<p>804 rows × 8 columns</p>\n",
       "</div>"
      ],
      "text/plain": [
       "                                                 title  \\\n",
       "0    A Collapse That Wiped Out 5 Years of Growth, W...   \n",
       "1    Grilled by Lawmakers, Big Tech Turns Up the Ga...   \n",
       "2    How Pimco’s Cayman-Based Hedge Fund Can Profit...   \n",
       "3            Big Tech Earnings Surge as Economy Slumps   \n",
       "4    ‘This Is a New Phase’: Europe Shifts Tactics t...   \n",
       "..                                                 ...   \n",
       "799  BREAKING! This Revolutionary Cancer-Killing Tr...   \n",
       "800  This Magic Mushroom Compound Will Help Treat D...   \n",
       "801  This Magic Mushroom Compound Will Help Treat D...   \n",
       "802  Trump Appoint Hollywood Legend To Be The Head ...   \n",
       "803  Trump Appoint Hollywood Legend To Be The Head ...   \n",
       "\n",
       "                                                  text  \\\n",
       "0    “Not only have we plateaued, but we may be los...   \n",
       "1    “I don’t know the specifics of that situation,...   \n",
       "2    WASHINGTON — Pacific Investment Management Com...   \n",
       "3    Live Updated July 30, 2020, 8:22 p.m. ET July ...   \n",
       "4    LONDON — European Union leaders are pursuing a...   \n",
       "..                                                 ...   \n",
       "799  This is the future of medicine. Novartis Pharm...   \n",
       "800  Science is definitely amazing!\\n\\nNature is ab...   \n",
       "801  Science is definitely amazing!\\n\\nNature is ab...   \n",
       "802  Presiden Trump made serious changes in the Whi...   \n",
       "803  Presiden Trump made serious changes in the Whi...   \n",
       "\n",
       "                                                  link  \\\n",
       "0    https://www.nytimes.com/2020/07/30/business/ec...   \n",
       "1    https://www.nytimes.com/2020/07/30/technology/...   \n",
       "2    https://www.nytimes.com/2020/07/30/business/ec...   \n",
       "3    https://www.nytimes.com/live/2020/07/30/busine...   \n",
       "4    https://www.nytimes.com/2020/07/30/technology/...   \n",
       "..                                                 ...   \n",
       "799  https://www.usasupreme.com/breaking-revolution...   \n",
       "800  https://www.usasupreme.com/magic-mushroom-comp...   \n",
       "801  https://www.usasupreme.com/magic-mushroom-comp...   \n",
       "802  https://www.usasupreme.com/trump-appoint-holly...   \n",
       "803  https://www.usasupreme.com/trump-appoint-holly...   \n",
       "\n",
       "                                                author  label  \\\n",
       "0                                      [Ben Casselman]      0   \n",
       "1                                        [Kevin Roose]      0   \n",
       "2                                     [Jeanna Smialek]      0   \n",
       "3    [Mike Isaac, Karen Weise, Daisuke Wakabayashi,...      0   \n",
       "4                                     [Adam Satariano]      0   \n",
       "..                                                 ...    ...   \n",
       "799  [Alex D., Alex D Is A Conservative Journalist,...      1   \n",
       "800  [Natalie D., Natalie D. Is An American Conserv...      1   \n",
       "801  [Natalie D., Natalie D. Is An American Conserv...      1   \n",
       "802  [Alex D., Alex D Is A Conservative Journalist,...      1   \n",
       "803  [Alex D., Alex D Is A Conservative Journalist,...      1   \n",
       "\n",
       "                                           clean_title  \\\n",
       "0             collapse wiped years growth bounce sight   \n",
       "1            grilled lawmakers big tech turns gaslight   \n",
       "2      pimco cayman based hedge fund profit fed rescue   \n",
       "3               big tech earnings surge economy slumps   \n",
       "4     new phase europe shifts tactics limit tech power   \n",
       "..                                                 ...   \n",
       "799   breaking revolutionary cancer killing treatme...   \n",
       "800      magic mushroom compound help treat depression   \n",
       "801      magic mushroom compound help treat depression   \n",
       "802   trump appoint hollywood legend head america f...   \n",
       "803   trump appoint hollywood legend head america f...   \n",
       "\n",
       "                                            clean_text  fake  \n",
       "0     plateaued may losing ground said diane swonk ...     0  \n",
       "1     know specifics situation mr bezos replied ano...     0  \n",
       "2     washington pacific investment management comp...     0  \n",
       "3     live updated july p et july p et big tech ear...     0  \n",
       "4     london european union leaders pursuing new la...     0  \n",
       "..                                                 ...   ...  \n",
       "799   future medicine novartis pharmaceuticals comp...     1  \n",
       "800   science definitely amazing nature abundant tr...     1  \n",
       "801   science definitely amazing nature abundant tr...     1  \n",
       "802   presiden trump made serious changes white hou...     1  \n",
       "803   presiden trump made serious changes white hou...     1  \n",
       "\n",
       "[804 rows x 8 columns]"
      ]
     },
     "execution_count": 30,
     "metadata": {},
     "output_type": "execute_result"
    }
   ],
   "source": [
    "copy_df"
   ]
  },
  {
   "cell_type": "code",
   "execution_count": 31,
   "metadata": {},
   "outputs": [],
   "source": [
    "columns_to_delete = ['title','text','label','author','link', 'clean_title']"
   ]
  },
  {
   "cell_type": "code",
   "execution_count": 32,
   "metadata": {},
   "outputs": [],
   "source": [
    "copy_df = copy_df.drop(columns_to_delete, axis = 1)"
   ]
  },
  {
   "cell_type": "code",
   "execution_count": 33,
   "metadata": {},
   "outputs": [
    {
     "data": {
      "text/html": [
       "<div>\n",
       "<style scoped>\n",
       "    .dataframe tbody tr th:only-of-type {\n",
       "        vertical-align: middle;\n",
       "    }\n",
       "\n",
       "    .dataframe tbody tr th {\n",
       "        vertical-align: top;\n",
       "    }\n",
       "\n",
       "    .dataframe thead th {\n",
       "        text-align: right;\n",
       "    }\n",
       "</style>\n",
       "<table border=\"1\" class=\"dataframe\">\n",
       "  <thead>\n",
       "    <tr style=\"text-align: right;\">\n",
       "      <th></th>\n",
       "      <th>clean_text</th>\n",
       "      <th>fake</th>\n",
       "    </tr>\n",
       "  </thead>\n",
       "  <tbody>\n",
       "    <tr>\n",
       "      <th>0</th>\n",
       "      <td>plateaued may losing ground said diane swonk ...</td>\n",
       "      <td>0</td>\n",
       "    </tr>\n",
       "    <tr>\n",
       "      <th>1</th>\n",
       "      <td>know specifics situation mr bezos replied ano...</td>\n",
       "      <td>0</td>\n",
       "    </tr>\n",
       "    <tr>\n",
       "      <th>2</th>\n",
       "      <td>washington pacific investment management comp...</td>\n",
       "      <td>0</td>\n",
       "    </tr>\n",
       "    <tr>\n",
       "      <th>3</th>\n",
       "      <td>live updated july p et july p et big tech ear...</td>\n",
       "      <td>0</td>\n",
       "    </tr>\n",
       "    <tr>\n",
       "      <th>4</th>\n",
       "      <td>london european union leaders pursuing new la...</td>\n",
       "      <td>0</td>\n",
       "    </tr>\n",
       "    <tr>\n",
       "      <th>...</th>\n",
       "      <td>...</td>\n",
       "      <td>...</td>\n",
       "    </tr>\n",
       "    <tr>\n",
       "      <th>799</th>\n",
       "      <td>future medicine novartis pharmaceuticals comp...</td>\n",
       "      <td>1</td>\n",
       "    </tr>\n",
       "    <tr>\n",
       "      <th>800</th>\n",
       "      <td>science definitely amazing nature abundant tr...</td>\n",
       "      <td>1</td>\n",
       "    </tr>\n",
       "    <tr>\n",
       "      <th>801</th>\n",
       "      <td>science definitely amazing nature abundant tr...</td>\n",
       "      <td>1</td>\n",
       "    </tr>\n",
       "    <tr>\n",
       "      <th>802</th>\n",
       "      <td>presiden trump made serious changes white hou...</td>\n",
       "      <td>1</td>\n",
       "    </tr>\n",
       "    <tr>\n",
       "      <th>803</th>\n",
       "      <td>presiden trump made serious changes white hou...</td>\n",
       "      <td>1</td>\n",
       "    </tr>\n",
       "  </tbody>\n",
       "</table>\n",
       "<p>804 rows × 2 columns</p>\n",
       "</div>"
      ],
      "text/plain": [
       "                                            clean_text  fake\n",
       "0     plateaued may losing ground said diane swonk ...     0\n",
       "1     know specifics situation mr bezos replied ano...     0\n",
       "2     washington pacific investment management comp...     0\n",
       "3     live updated july p et july p et big tech ear...     0\n",
       "4     london european union leaders pursuing new la...     0\n",
       "..                                                 ...   ...\n",
       "799   future medicine novartis pharmaceuticals comp...     1\n",
       "800   science definitely amazing nature abundant tr...     1\n",
       "801   science definitely amazing nature abundant tr...     1\n",
       "802   presiden trump made serious changes white hou...     1\n",
       "803   presiden trump made serious changes white hou...     1\n",
       "\n",
       "[804 rows x 2 columns]"
      ]
     },
     "execution_count": 33,
     "metadata": {},
     "output_type": "execute_result"
    }
   ],
   "source": [
    "copy_df"
   ]
  },
  {
   "cell_type": "code",
   "execution_count": 34,
   "metadata": {},
   "outputs": [
    {
     "data": {
      "text/plain": [
       "0    0.733831\n",
       "1    0.266169\n",
       "Name: fake, dtype: float64"
      ]
     },
     "execution_count": 34,
     "metadata": {},
     "output_type": "execute_result"
    }
   ],
   "source": [
    "copy_df['fake'].value_counts(normalize=True)"
   ]
  },
  {
   "cell_type": "code",
   "execution_count": 35,
   "metadata": {},
   "outputs": [],
   "source": [
    "X = df['clean_text']\n",
    "y = df['fake']"
   ]
  },
  {
   "cell_type": "code",
   "execution_count": null,
   "metadata": {},
   "outputs": [],
   "source": []
  },
  {
   "cell_type": "code",
   "execution_count": 37,
   "metadata": {},
   "outputs": [],
   "source": [
    "X_train, X_test, y_train, y_test = train_test_split(X, y, test_size = 0.2, random_state=42)"
   ]
  },
  {
   "cell_type": "code",
   "execution_count": 39,
   "metadata": {},
   "outputs": [
    {
     "data": {
      "text/plain": [
       "(643,)"
      ]
     },
     "execution_count": 39,
     "metadata": {},
     "output_type": "execute_result"
    }
   ],
   "source": [
    "X_train.shape"
   ]
  },
  {
   "cell_type": "code",
   "execution_count": 42,
   "metadata": {},
   "outputs": [
    {
     "data": {
      "text/plain": [
       "(161,)"
      ]
     },
     "execution_count": 42,
     "metadata": {},
     "output_type": "execute_result"
    }
   ],
   "source": [
    "X_test.shape"
   ]
  },
  {
   "cell_type": "markdown",
   "metadata": {},
   "source": [
    "## Model 1 - Countvectorizer and MultinomialNB"
   ]
  },
  {
   "cell_type": "code",
   "execution_count": 46,
   "metadata": {},
   "outputs": [
    {
     "name": "stdout",
     "output_type": "stream",
     "text": [
      "Best score: 0.9128957473013113\n",
      "Train score 0.9968895800933126\n",
      "Test score 0.9440993788819876\n"
     ]
    },
    {
     "data": {
      "text/plain": [
       "{'cvec__ngram_range': (1, 1), 'nb__alpha': 0.6}"
      ]
     },
     "execution_count": 46,
     "metadata": {},
     "output_type": "execute_result"
    }
   ],
   "source": [
    "pipe = Pipeline([('cvec', CountVectorizer()),    \n",
    "                 ('nb', MultinomialNB())])\n",
    "\n",
    "# Tune GridSearchCV\n",
    "pipe_params = {'cvec__ngram_range': [(1,1),(1,3)],\n",
    "               'nb__alpha': [.36, .6]}\n",
    "\n",
    "gs = GridSearchCV(pipe, param_grid=pipe_params, cv=3)\n",
    "gs.fit(X_train, y_train);\n",
    "print(\"Best score:\", gs.best_score_)\n",
    "print(\"Train score\", gs.score(X_train, y_train))\n",
    "print(\"Test score\", gs.score(X_test, y_test))\n",
    "\n",
    "gs.best_params_"
   ]
  },
  {
   "cell_type": "markdown",
   "metadata": {},
   "source": [
    "## Model 2 - tfidfvectorizer and MultinomialNB"
   ]
  },
  {
   "cell_type": "code",
   "execution_count": 47,
   "metadata": {},
   "outputs": [
    {
     "name": "stdout",
     "output_type": "stream",
     "text": [
      "Best score: 0.9175024224806201\n",
      "Train score 0.9906687402799378\n",
      "Test score 0.9440993788819876\n"
     ]
    },
    {
     "data": {
      "text/plain": [
       "{'nb__alpha': 0.1,\n",
       " 'tvect__max_df': 0.75,\n",
       " 'tvect__min_df': 4,\n",
       " 'tvect__ngram_range': (1, 2)}"
      ]
     },
     "execution_count": 47,
     "metadata": {},
     "output_type": "execute_result"
    }
   ],
   "source": [
    "pipe = Pipeline([('tvect', TfidfVectorizer()),    \n",
    "                 ('nb', MultinomialNB())])\n",
    "\n",
    "# Tune GridSearchCV\n",
    "pipe_params = {'tvect__max_df': [.75, .98],\n",
    "               'tvect__min_df': [4, 5],\n",
    "               'tvect__ngram_range': [(1,2), (1,3)],\n",
    "               'nb__alpha': [0.1, 1]}\n",
    "\n",
    "gs = GridSearchCV(pipe, param_grid=pipe_params, cv=5)\n",
    "gs.fit(X_train, y_train);\n",
    "print(\"Best score:\", gs.best_score_)\n",
    "print(\"Train score\", gs.score(X_train, y_train))\n",
    "print(\"Test score\", gs.score(X_test, y_test))\n",
    "\n",
    "gs.best_params_"
   ]
  },
  {
   "cell_type": "markdown",
   "metadata": {},
   "source": [
    "## Model 3 - tfidfvectorizer and logistic regression"
   ]
  },
  {
   "cell_type": "code",
   "execution_count": 48,
   "metadata": {},
   "outputs": [
    {
     "name": "stdout",
     "output_type": "stream",
     "text": [
      "Best score: 0.8242700862131421\n",
      "Train score 0.9129082426127527\n",
      "Test score 0.8385093167701864\n"
     ]
    },
    {
     "data": {
      "text/plain": [
       "{'lr__C': 1,\n",
       " 'tvect__max_df': 0.75,\n",
       " 'tvect__min_df': 5,\n",
       " 'tvect__ngram_range': (1, 3)}"
      ]
     },
     "execution_count": 48,
     "metadata": {},
     "output_type": "execute_result"
    }
   ],
   "source": [
    "pipe = Pipeline([('tvect', TfidfVectorizer()),    \n",
    "                 ('lr', LogisticRegression(solver='liblinear'))])\n",
    "\n",
    "# Tune GridSearchCV\n",
    "pipe_params = {'tvect__max_df': [.75, .98, 1.0],\n",
    "               'tvect__min_df': [2, 3, 5],\n",
    "               'tvect__ngram_range': [(1,1), (1,2), (1,3)],\n",
    "               'lr__C': [1]}\n",
    "\n",
    "gs = GridSearchCV(pipe, param_grid=pipe_params, cv=3)\n",
    "gs.fit(X_train, y_train);\n",
    "print(\"Best score:\", gs.best_score_)\n",
    "print(\"Train score\", gs.score(X_train, y_train))\n",
    "print(\"Test score\", gs.score(X_test, y_test))\n",
    "\n",
    "gs.best_params_"
   ]
  },
  {
   "cell_type": "markdown",
   "metadata": {},
   "source": [
    "## Model 4 - countvectorizer and LogisticRegression"
   ]
  },
  {
   "cell_type": "code",
   "execution_count": 50,
   "metadata": {},
   "outputs": [
    {
     "name": "stdout",
     "output_type": "stream",
     "text": [
      "Best score: 0.919126276896327\n",
      "Train score 1.0\n",
      "Test score 0.9254658385093167\n"
     ]
    },
    {
     "data": {
      "text/plain": [
       "{'cvec__ngram_range': (1, 1), 'lr__C': 1}"
      ]
     },
     "execution_count": 50,
     "metadata": {},
     "output_type": "execute_result"
    }
   ],
   "source": [
    "\n",
    "pipe = Pipeline([('cvec', CountVectorizer()),    \n",
    "                 ('lr', LogisticRegression(solver='liblinear'))])\n",
    "\n",
    "# Tune GridSearchCV\n",
    "pipe_params = {'cvec__ngram_range': [(1,1), (2,2), (1,3)],\n",
    "               'lr__C': [0.01, 1]}\n",
    "\n",
    "gs = GridSearchCV(pipe, param_grid=pipe_params, cv=3)\n",
    "gs.fit(X_train, y_train);\n",
    "print(\"Best score:\", gs.best_score_)\n",
    "print(\"Train score\", gs.score(X_train, y_train))\n",
    "print(\"Test score\", gs.score(X_test, y_test))\n",
    "\n",
    "gs.best_params_"
   ]
  },
  {
   "cell_type": "markdown",
   "metadata": {},
   "source": [
    "## as we can see multinomialNB model perform better than Logistic Regression"
   ]
  },
  {
   "cell_type": "markdown",
   "metadata": {},
   "source": [
    "### though the tfidfvectorizer and countvectorizer have almost similer output \n",
    "best score is highest for tfidf vectorizer "
   ]
  },
  {
   "cell_type": "markdown",
   "metadata": {},
   "source": [
    "# Best Model"
   ]
  },
  {
   "cell_type": "markdown",
   "metadata": {},
   "source": [
    "### tfidfvectorizer and MultinomialNB - Best Score"
   ]
  },
  {
   "cell_type": "code",
   "execution_count": 107,
   "metadata": {},
   "outputs": [],
   "source": [
    "nb = MultinomialNB(alpha = 0.1)\n",
    "tfidf = TfidfVectorizer( min_df = 5, max_df = 0.75)\n",
    "\n",
    "tfidf.fit(X_train)\n",
    "X_tfidf_train = tfidf.transform(X_train)\n",
    "X_tfidf_test = tfidf.transform(X_test)"
   ]
  },
  {
   "cell_type": "code",
   "execution_count": 108,
   "metadata": {},
   "outputs": [
    {
     "data": {
      "text/plain": [
       "MultinomialNB(alpha=0.1)"
      ]
     },
     "execution_count": 108,
     "metadata": {},
     "output_type": "execute_result"
    }
   ],
   "source": [
    "nb.fit(X_tfidf_train,y_train)"
   ]
  },
  {
   "cell_type": "code",
   "execution_count": 109,
   "metadata": {},
   "outputs": [],
   "source": [
    "preds = nb.predict(X_tfidf_test)"
   ]
  },
  {
   "cell_type": "code",
   "execution_count": 110,
   "metadata": {},
   "outputs": [
    {
     "name": "stdout",
     "output_type": "stream",
     "text": [
      "0.9440993788819876\n"
     ]
    }
   ],
   "source": [
    "print(nb.score(X_tfidf_test, y_test))"
   ]
  },
  {
   "cell_type": "code",
   "execution_count": 111,
   "metadata": {},
   "outputs": [
    {
     "data": {
      "text/plain": [
       "array([[114,   3],\n",
       "       [  6,  38]], dtype=int64)"
      ]
     },
     "execution_count": 111,
     "metadata": {},
     "output_type": "execute_result"
    }
   ],
   "source": [
    "# Create a confusion matrix\n",
    "cnf_matrix = metrics.confusion_matrix(y_test, preds)\n",
    "cnf_matrix"
   ]
  },
  {
   "cell_type": "code",
   "execution_count": 112,
   "metadata": {},
   "outputs": [
    {
     "name": "stdout",
     "output_type": "stream",
     "text": [
      "Accuracy: 94.41 %\n",
      "Precision: 92.68 %\n",
      "Recall: 86.36 %\n",
      "F1 score: 89.41 %\n"
     ]
    }
   ],
   "source": [
    "print(\"Accuracy:\",round(metrics.accuracy_score(y_test, preds)*100, 2),'%')\n",
    "print(\"Precision:\",round(metrics.precision_score(y_test, preds)*100, 2), '%')\n",
    "print(\"Recall:\",round(metrics.recall_score(y_test, preds)*100, 2), '%')\n",
    "print(\"F1 score:\",round(metrics.f1_score(y_test, preds)*100, 2), '%')"
   ]
  },
  {
   "cell_type": "code",
   "execution_count": null,
   "metadata": {},
   "outputs": [],
   "source": []
  },
  {
   "cell_type": "code",
   "execution_count": null,
   "metadata": {},
   "outputs": [],
   "source": []
  },
  {
   "cell_type": "markdown",
   "metadata": {},
   "source": [
    "# Most common Spam Words"
   ]
  },
  {
   "cell_type": "code",
   "execution_count": 137,
   "metadata": {},
   "outputs": [],
   "source": [
    "import nltk\n",
    "from collections import Counter\n",
    "spam = df[df['fake']==1]"
   ]
  },
  {
   "cell_type": "code",
   "execution_count": 138,
   "metadata": {},
   "outputs": [],
   "source": [
    "spam_words = nltk.word_tokenize(\" \".join(spam['clean_text'].values.tolist()))"
   ]
  },
  {
   "cell_type": "code",
   "execution_count": 139,
   "metadata": {},
   "outputs": [
    {
     "name": "stdout",
     "output_type": "stream",
     "text": [
      "[('trump', 447), ('people', 415), ('said', 366), ('president', 341), ('one', 313), ('us', 262), ('america', 253), ('new', 235), ('com', 224), ('https', 222), ('world', 217), ('would', 206), ('also', 198), ('obama', 198), ('two', 189), ('see', 185), ('like', 173), ('news', 173), ('time', 172), ('american', 168), ('police', 164), ('state', 163), ('years', 160), ('law', 157), ('video', 156), ('could', 156), ('many', 150), ('states', 149), ('earth', 133), ('first', 129), ('black', 129), ('going', 126), ('government', 126), ('country', 126), ('according', 126), ('fact', 124), ('www', 123), ('white', 123), ('know', 121), ('system', 121), ('get', 121), ('covid', 121), ('order', 118), ('great', 116), ('think', 115), ('health', 114), ('even', 114), ('media', 111), ('around', 110), ('god', 107)]\n"
     ]
    }
   ],
   "source": [
    "spam_counter = Counter(spam_words)\n",
    "print(spam_counter.most_common(50))"
   ]
  },
  {
   "cell_type": "code",
   "execution_count": 140,
   "metadata": {},
   "outputs": [],
   "source": [
    "spam_bigrams = nltk.bigrams(spam_words)"
   ]
  },
  {
   "cell_type": "code",
   "execution_count": 141,
   "metadata": {},
   "outputs": [
    {
     "name": "stdout",
     "output_type": "stream",
     "text": [
      "[(('https', 'www'), 116), (('president', 'trump'), 88), (('united', 'states'), 75), (('donald', 'trump'), 70), (('abraham', 'isaac'), 55), (('isaac', 'jacob'), 55), (('god', 'abraham'), 53), (('black', 'lives'), 53), (('lives', 'matter'), 53), (('new', 'york'), 51), (('twitter', 'com'), 47), (('pic', 'twitter'), 44), (('american', 'people'), 42), (('fox', 'news'), 38), (('law', 'enforcement'), 38), (('world', 'order'), 37), (('readers', 'think'), 36), (('think', 'story'), 36), (('story', 'fact'), 36), (('fact', 'add'), 36), (('add', 'two'), 36), (('two', 'cents'), 36), (('holy', 'gematria'), 35), (('white', 'house'), 34), (('foreign', 'agents'), 32), (('https', 'co'), 32), (('around', 'world'), 31), (('new', 'world'), 31), (('baking', 'soda'), 30), (('years', 'ago'), 29), (('mainstream', 'media'), 28), (('get', 'best'), 28), (('humic', 'fulvic'), 27), (('christian', 'news'), 27), (('many', 'people'), 26), (('banned', 'foreign'), 26), (('reloaded', 'org'), 26), (('www', 'brighteon'), 25), (('brighteon', 'com'), 25), (('news', 'reported'), 25), (('barack', 'obama'), 23), (('obama', 'administration'), 23), (('former', 'president'), 22), (('going', 'around'), 20), (('youtube', 'com'), 20), (('tribes', 'israel'), 20), (('mark', 'beast'), 20), (('president', 'donald'), 20), (('www', 'youtube'), 19), (('com', 'watch'), 19)]\n"
     ]
    }
   ],
   "source": [
    "spam_counter = Counter(spam_bigrams)\n",
    "print(spam_counter.most_common(50))"
   ]
  },
  {
   "cell_type": "code",
   "execution_count": null,
   "metadata": {},
   "outputs": [],
   "source": []
  },
  {
   "cell_type": "markdown",
   "metadata": {},
   "source": [
    " # Most common ham Words"
   ]
  },
  {
   "cell_type": "code",
   "execution_count": 148,
   "metadata": {},
   "outputs": [],
   "source": [
    "ham = df[df['fake']==0]"
   ]
  },
  {
   "cell_type": "code",
   "execution_count": 149,
   "metadata": {},
   "outputs": [],
   "source": [
    "ham_words = nltk.word_tokenize(\" \".join(ham['clean_text'].values.tolist()))"
   ]
  },
  {
   "cell_type": "code",
   "execution_count": 150,
   "metadata": {},
   "outputs": [
    {
     "name": "stdout",
     "output_type": "stream",
     "text": [
      "[('said', 1536), ('trump', 1299), ('people', 1256), ('one', 1185), ('new', 959), ('would', 869), ('time', 868), ('also', 865), ('r', 733), ('like', 725), ('election', 700), ('even', 689), ('state', 670), ('percent', 615), ('many', 610), ('year', 604), ('polls', 575), ('first', 560), ('think', 526), ('two', 519), ('president', 510), ('could', 510), ('get', 474), ('states', 473), ('us', 470), ('make', 468), ('business', 462), ('ad', 444), ('pandemic', 433), ('company', 428), ('may', 424), ('right', 421), ('way', 412), ('much', 407), ('going', 389), ('work', 388), ('need', 388), ('health', 386), ('covid', 385), ('data', 381), ('know', 377), ('country', 376), ('coronavirus', 371), ('still', 369), ('week', 361), ('team', 360), ('years', 358), ('back', 356), ('want', 351), ('day', 350)]\n"
     ]
    }
   ],
   "source": [
    "ham_counter = Counter(ham_words)\n",
    "print(ham_counter.most_common(50))"
   ]
  },
  {
   "cell_type": "code",
   "execution_count": 151,
   "metadata": {},
   "outputs": [],
   "source": [
    "\n",
    "ham_bigrams = nltk.bigrams(ham_words)"
   ]
  },
  {
   "cell_type": "code",
   "execution_count": 152,
   "metadata": {},
   "outputs": [
    {
     "name": "stdout",
     "output_type": "stream",
     "text": [
      "[(('new', 'york'), 178), (('second', 'quarter'), 139), (('united', 'states'), 136), (('donald', 'trump'), 126), (('anne', 'applebaum'), 111), (('ad', 'ad'), 109), (('min', 'read'), 100), (('president', 'trump'), 96), (('july', 'min'), 94), (('health', 'care'), 93), (('michelle', 'goldberg'), 87), (('black', 'lives'), 85), (('lives', 'matter'), 85), (('mr', 'trump'), 84), (('york', 'times'), 83), (('white', 'house'), 81), (('hong', 'kong'), 80), (('even', 'though'), 75), (('r', 'r'), 74), (('frank', 'bruni'), 72), (('cooper', 'dyke'), 72), (('pollster', 'ratings'), 72), (('coronavirus', 'pandemic'), 71), (('year', 'old'), 70), (('percentage', 'points'), 70), (('plus', 'minus'), 70), (('read', 'opinions'), 69), (('opinions', 'expressed'), 69), (('expressed', 'entrepreneur'), 69), (('entrepreneur', 'contributors'), 69), (('social', 'media'), 68), (('last', 'week'), 68), (('trump', 'administration'), 68), (('joe', 'biden'), 68), (('public', 'health'), 68), (('child', 'care'), 64), (('average', 'error'), 62), (('john', 'lewis'), 58), (('first', 'time'), 57), (('can', 'not'), 56), (('last', 'year'), 55), (('gen', 'z'), 54), (('regular', 'season'), 54), (('civil', 'rights'), 53), (('years', 'ago'), 52), (('presidential', 'election'), 52), (('republican', 'party'), 51), (('social', 'distancing'), 50), (('long', 'term'), 49), (('make', 'sure'), 48)]\n"
     ]
    }
   ],
   "source": [
    "ham_counter = Counter(ham_bigrams)\n",
    "print(ham_counter.most_common(50))"
   ]
  },
  {
   "cell_type": "code",
   "execution_count": null,
   "metadata": {},
   "outputs": [],
   "source": []
  },
  {
   "cell_type": "markdown",
   "metadata": {},
   "source": [
    "## Conclusions and Next-Steps\n",
    "\n",
    "The most model to optimize for accuracy in detecting fake news and absurd news uses TfidfVectorizer and MultinomialDB. The optimal parameters for this model are where ngram_range = (1,2) and alpha = 0.1.\n",
    "\n",
    "Accuracy: 94.41 %\n",
    "Precision: 92.68 %\n",
    "Recall: 86.36 %\n",
    "F1 score: 89.41 %\n",
    "\n",
    "\n"
   ]
  },
  {
   "cell_type": "code",
   "execution_count": null,
   "metadata": {},
   "outputs": [],
   "source": []
  }
 ],
 "metadata": {
  "kernelspec": {
   "display_name": "Python 3",
   "language": "python",
   "name": "python3"
  },
  "language_info": {
   "codemirror_mode": {
    "name": "ipython",
    "version": 3
   },
   "file_extension": ".py",
   "mimetype": "text/x-python",
   "name": "python",
   "nbconvert_exporter": "python",
   "pygments_lexer": "ipython3",
   "version": "3.6.8"
  }
 },
 "nbformat": 4,
 "nbformat_minor": 4
}
