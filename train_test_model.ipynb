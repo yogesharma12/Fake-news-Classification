{
 "cells": [
  {
   "cell_type": "code",
   "execution_count": 1,
   "metadata": {},
   "outputs": [],
   "source": [
    "import pandas as pd\n",
    "import numpy as np\n",
    "from sklearn.feature_extraction.text import TfidfVectorizer\n",
    "from sklearn.model_selection import train_test_split\n",
    "from sklearn.metrics import f1_score, accuracy_score, recall_score, precision_score"
   ]
  },
  {
   "cell_type": "code",
   "execution_count": 2,
   "metadata": {},
   "outputs": [],
   "source": [
    "df = pd.read_pickle('cleaned_df.pkl')"
   ]
  },
  {
   "cell_type": "code",
   "execution_count": 3,
   "metadata": {},
   "outputs": [
    {
     "data": {
      "text/html": [
       "<div>\n",
       "<style scoped>\n",
       "    .dataframe tbody tr th:only-of-type {\n",
       "        vertical-align: middle;\n",
       "    }\n",
       "\n",
       "    .dataframe tbody tr th {\n",
       "        vertical-align: top;\n",
       "    }\n",
       "\n",
       "    .dataframe thead th {\n",
       "        text-align: right;\n",
       "    }\n",
       "</style>\n",
       "<table border=\"1\" class=\"dataframe\">\n",
       "  <thead>\n",
       "    <tr style=\"text-align: right;\">\n",
       "      <th></th>\n",
       "      <th>index</th>\n",
       "      <th>title</th>\n",
       "      <th>text</th>\n",
       "      <th>link</th>\n",
       "      <th>author</th>\n",
       "      <th>label</th>\n",
       "      <th>clean_title</th>\n",
       "      <th>clean_text</th>\n",
       "    </tr>\n",
       "  </thead>\n",
       "  <tbody>\n",
       "    <tr>\n",
       "      <th>0</th>\n",
       "      <td>0</td>\n",
       "      <td>Twitter Takedown Targets QAnon Accounts</td>\n",
       "      <td>“These accounts amplify and enable networked h...</td>\n",
       "      <td>https://www.nytimes.com/2020/07/21/technology/...</td>\n",
       "      <td>[Kate Conger]</td>\n",
       "      <td>0</td>\n",
       "      <td>twitter takedown targets qanon accounts</td>\n",
       "      <td>accounts amplify enable networked harassment ...</td>\n",
       "    </tr>\n",
       "    <tr>\n",
       "      <th>1</th>\n",
       "      <td>1</td>\n",
       "      <td>Major Security Flaws Found in South Korea Quar...</td>\n",
       "      <td>“We were really in a hurry to make and deploy ...</td>\n",
       "      <td>https://www.nytimes.com/2020/07/21/technology/...</td>\n",
       "      <td>[Choe Sang-Hun, Aaron Krolik, Raymond Zhong, N...</td>\n",
       "      <td>0</td>\n",
       "      <td>major security flaws found south korea quaran...</td>\n",
       "      <td>really hurry make deploy app quickly possible...</td>\n",
       "    </tr>\n",
       "    <tr>\n",
       "      <th>2</th>\n",
       "      <td>2</td>\n",
       "      <td>Tensions Between U.S. and China Rattle Investo...</td>\n",
       "      <td>Luxuries do still exist during the pandemic, ‘...</td>\n",
       "      <td>https://www.nytimes.com/live/2020/07/22/busine...</td>\n",
       "      <td>[Niraj Chokshi, Kevin Granville, Gillian Fried...</td>\n",
       "      <td>0</td>\n",
       "      <td>tensions u china rattle investors live busine...</td>\n",
       "      <td>luxuries still exist pandemic money united ai...</td>\n",
       "    </tr>\n",
       "    <tr>\n",
       "      <th>3</th>\n",
       "      <td>3</td>\n",
       "      <td>Coronavirus Threatens the Luster of Superstar ...</td>\n",
       "      <td>From 1980 to 2018, the income per person in Ne...</td>\n",
       "      <td>https://www.nytimes.com/2020/07/21/business/ec...</td>\n",
       "      <td>[Eduardo Porter]</td>\n",
       "      <td>0</td>\n",
       "      <td>coronavirus threatens luster superstar cities</td>\n",
       "      <td>income per person new york metropolitan area ...</td>\n",
       "    </tr>\n",
       "    <tr>\n",
       "      <th>4</th>\n",
       "      <td>4</td>\n",
       "      <td>A Company Backs a Cause. It Funds a Politician...</td>\n",
       "      <td>Walmart calls its employees “heroes” for putti...</td>\n",
       "      <td>https://www.nytimes.com/2020/07/21/business/de...</td>\n",
       "      <td>[Andrew Ross Sorkin]</td>\n",
       "      <td>0</td>\n",
       "      <td>company backs cause funds politician gives</td>\n",
       "      <td>walmart calls employees heroes putting health...</td>\n",
       "    </tr>\n",
       "    <tr>\n",
       "      <th>...</th>\n",
       "      <td>...</td>\n",
       "      <td>...</td>\n",
       "      <td>...</td>\n",
       "      <td>...</td>\n",
       "      <td>...</td>\n",
       "      <td>...</td>\n",
       "      <td>...</td>\n",
       "      <td>...</td>\n",
       "    </tr>\n",
       "    <tr>\n",
       "      <th>790</th>\n",
       "      <td>790</td>\n",
       "      <td>Get ready for “The ‘M’ Word” by Jeff Foxworthy</td>\n",
       "      <td>Isn’t it strange when you can use a comedy pla...</td>\n",
       "      <td>https://www.usasupreme.com/get-ready-m-word-je...</td>\n",
       "      <td>[Alex D., Alex D Is A Conservative Journalist,...</td>\n",
       "      <td>1</td>\n",
       "      <td>get ready word jeff foxworthy</td>\n",
       "      <td>strange use comedy platform speak truth yet p...</td>\n",
       "    </tr>\n",
       "    <tr>\n",
       "      <th>791</th>\n",
       "      <td>791</td>\n",
       "      <td>Somali Muslims Take Over Small Tennessee Town ...</td>\n",
       "      <td>Obama’s plan to bring refugees in our country ...</td>\n",
       "      <td>https://www.usasupreme.com/somali-muslims-take...</td>\n",
       "      <td>[Natalie D., Natalie D. Is An American Conserv...</td>\n",
       "      <td>1</td>\n",
       "      <td>somali muslims take small tennessee town forc...</td>\n",
       "      <td>obama plan bring refugees country spread nati...</td>\n",
       "    </tr>\n",
       "    <tr>\n",
       "      <th>792</th>\n",
       "      <td>792</td>\n",
       "      <td>Somali Muslims Take Over Small Tennessee Town ...</td>\n",
       "      <td>Obama’s plan to bring refugees in our country ...</td>\n",
       "      <td>https://www.usasupreme.com/somali-muslims-take...</td>\n",
       "      <td>[Natalie D., Natalie D. Is An American Conserv...</td>\n",
       "      <td>1</td>\n",
       "      <td>somali muslims take small tennessee town forc...</td>\n",
       "      <td>obama plan bring refugees country spread nati...</td>\n",
       "    </tr>\n",
       "    <tr>\n",
       "      <th>793</th>\n",
       "      <td>793</td>\n",
       "      <td>Obama Admin Funneled Billions Into Left-Wing A...</td>\n",
       "      <td>The leftists scream about taxpayer money for s...</td>\n",
       "      <td>https://www.usasupreme.com/obama-admin-funnele...</td>\n",
       "      <td>[Alex D., Alex D Is A Conservative Journalist,...</td>\n",
       "      <td>1</td>\n",
       "      <td>obama admin funneled billions left wing activ...</td>\n",
       "      <td>leftists scream taxpayer money secret service...</td>\n",
       "    </tr>\n",
       "    <tr>\n",
       "      <th>794</th>\n",
       "      <td>794</td>\n",
       "      <td>Obama Admin Funneled Billions Into Left-Wing A...</td>\n",
       "      <td>The leftists scream about taxpayer money for s...</td>\n",
       "      <td>https://www.usasupreme.com/obama-admin-funnele...</td>\n",
       "      <td>[Alex D., Alex D Is A Conservative Journalist,...</td>\n",
       "      <td>1</td>\n",
       "      <td>obama admin funneled billions left wing activ...</td>\n",
       "      <td>leftists scream taxpayer money secret service...</td>\n",
       "    </tr>\n",
       "  </tbody>\n",
       "</table>\n",
       "<p>795 rows × 8 columns</p>\n",
       "</div>"
      ],
      "text/plain": [
       "     index                                              title  \\\n",
       "0        0            Twitter Takedown Targets QAnon Accounts   \n",
       "1        1  Major Security Flaws Found in South Korea Quar...   \n",
       "2        2  Tensions Between U.S. and China Rattle Investo...   \n",
       "3        3  Coronavirus Threatens the Luster of Superstar ...   \n",
       "4        4  A Company Backs a Cause. It Funds a Politician...   \n",
       "..     ...                                                ...   \n",
       "790    790     Get ready for “The ‘M’ Word” by Jeff Foxworthy   \n",
       "791    791  Somali Muslims Take Over Small Tennessee Town ...   \n",
       "792    792  Somali Muslims Take Over Small Tennessee Town ...   \n",
       "793    793  Obama Admin Funneled Billions Into Left-Wing A...   \n",
       "794    794  Obama Admin Funneled Billions Into Left-Wing A...   \n",
       "\n",
       "                                                  text  \\\n",
       "0    “These accounts amplify and enable networked h...   \n",
       "1    “We were really in a hurry to make and deploy ...   \n",
       "2    Luxuries do still exist during the pandemic, ‘...   \n",
       "3    From 1980 to 2018, the income per person in Ne...   \n",
       "4    Walmart calls its employees “heroes” for putti...   \n",
       "..                                                 ...   \n",
       "790  Isn’t it strange when you can use a comedy pla...   \n",
       "791  Obama’s plan to bring refugees in our country ...   \n",
       "792  Obama’s plan to bring refugees in our country ...   \n",
       "793  The leftists scream about taxpayer money for s...   \n",
       "794  The leftists scream about taxpayer money for s...   \n",
       "\n",
       "                                                  link  \\\n",
       "0    https://www.nytimes.com/2020/07/21/technology/...   \n",
       "1    https://www.nytimes.com/2020/07/21/technology/...   \n",
       "2    https://www.nytimes.com/live/2020/07/22/busine...   \n",
       "3    https://www.nytimes.com/2020/07/21/business/ec...   \n",
       "4    https://www.nytimes.com/2020/07/21/business/de...   \n",
       "..                                                 ...   \n",
       "790  https://www.usasupreme.com/get-ready-m-word-je...   \n",
       "791  https://www.usasupreme.com/somali-muslims-take...   \n",
       "792  https://www.usasupreme.com/somali-muslims-take...   \n",
       "793  https://www.usasupreme.com/obama-admin-funnele...   \n",
       "794  https://www.usasupreme.com/obama-admin-funnele...   \n",
       "\n",
       "                                                author  label  \\\n",
       "0                                        [Kate Conger]      0   \n",
       "1    [Choe Sang-Hun, Aaron Krolik, Raymond Zhong, N...      0   \n",
       "2    [Niraj Chokshi, Kevin Granville, Gillian Fried...      0   \n",
       "3                                     [Eduardo Porter]      0   \n",
       "4                                 [Andrew Ross Sorkin]      0   \n",
       "..                                                 ...    ...   \n",
       "790  [Alex D., Alex D Is A Conservative Journalist,...      1   \n",
       "791  [Natalie D., Natalie D. Is An American Conserv...      1   \n",
       "792  [Natalie D., Natalie D. Is An American Conserv...      1   \n",
       "793  [Alex D., Alex D Is A Conservative Journalist,...      1   \n",
       "794  [Alex D., Alex D Is A Conservative Journalist,...      1   \n",
       "\n",
       "                                           clean_title  \\\n",
       "0              twitter takedown targets qanon accounts   \n",
       "1     major security flaws found south korea quaran...   \n",
       "2     tensions u china rattle investors live busine...   \n",
       "3        coronavirus threatens luster superstar cities   \n",
       "4           company backs cause funds politician gives   \n",
       "..                                                 ...   \n",
       "790                      get ready word jeff foxworthy   \n",
       "791   somali muslims take small tennessee town forc...   \n",
       "792   somali muslims take small tennessee town forc...   \n",
       "793   obama admin funneled billions left wing activ...   \n",
       "794   obama admin funneled billions left wing activ...   \n",
       "\n",
       "                                            clean_text  \n",
       "0     accounts amplify enable networked harassment ...  \n",
       "1     really hurry make deploy app quickly possible...  \n",
       "2     luxuries still exist pandemic money united ai...  \n",
       "3     income per person new york metropolitan area ...  \n",
       "4     walmart calls employees heroes putting health...  \n",
       "..                                                 ...  \n",
       "790   strange use comedy platform speak truth yet p...  \n",
       "791   obama plan bring refugees country spread nati...  \n",
       "792   obama plan bring refugees country spread nati...  \n",
       "793   leftists scream taxpayer money secret service...  \n",
       "794   leftists scream taxpayer money secret service...  \n",
       "\n",
       "[795 rows x 8 columns]"
      ]
     },
     "execution_count": 3,
     "metadata": {},
     "output_type": "execute_result"
    }
   ],
   "source": [
    "df.reset_index()"
   ]
  },
  {
   "cell_type": "code",
   "execution_count": 4,
   "metadata": {},
   "outputs": [],
   "source": [
    "# Preparing the target and predictors for modeling\n",
    "# Keep the title and body text separated for different models\n",
    "\n",
    "X_body_text = df['clean_text'].values\n",
    "X_title_text = df['clean_title'].values\n",
    "y = df['label'].values"
   ]
  },
  {
   "cell_type": "raw",
   "metadata": {},
   "source": [
    "Convert the text into a TF-IDF.\n",
    "\n",
    "TF-IDF counts the number of occurrences of each word in a document and divides the number of occurrences of each word in a document by the total number of words in the document: these new features are called TF for Term Frequencies.\n",
    "\n",
    "Another refinement on top of TF is to downscale weights for words that occur in many documents in the corpus and are therefore less informative than those that occur only in a smaller portion of the corpus.\n",
    "\n",
    "This downscaling is called TF-IDF for “Term Frequency times Inverse Document Frequency”."
   ]
  },
  {
   "cell_type": "markdown",
   "metadata": {},
   "source": [
    "# create tf idf vector"
   ]
  },
  {
   "cell_type": "code",
   "execution_count": 5,
   "metadata": {},
   "outputs": [],
   "source": [
    "tfidf = TfidfVectorizer(ngram_range=(1,2), max_df= 0.85, min_df= 0.01)"
   ]
  },
  {
   "cell_type": "raw",
   "metadata": {},
   "source": [
    "##transform X_body_text and X_title_text datasets into tfidf vector"
   ]
  },
  {
   "cell_type": "code",
   "execution_count": 6,
   "metadata": {},
   "outputs": [],
   "source": [
    "X_body_tfidf = tfidf.fit_transform(X_body_text)\n",
    "X_title_tfidf = tfidf.fit_transform (X_title_text)"
   ]
  },
  {
   "cell_type": "code",
   "execution_count": 7,
   "metadata": {},
   "outputs": [],
   "source": [
    "indices = df.index.values"
   ]
  },
  {
   "cell_type": "markdown",
   "metadata": {},
   "source": [
    "# 80% of articles for training, 20% for testing from X and y"
   ]
  },
  {
   "cell_type": "code",
   "execution_count": 8,
   "metadata": {},
   "outputs": [],
   "source": [
    "X_body_tfidf_train, X_body_tfidf_test, y_body_train, y_body_test, \\\n",
    "indices_body_train, indices_body_test = train_test_split(X_body_tfidf, y, indices, test_size = 0.2, random_state=42)"
   ]
  },
  {
   "cell_type": "code",
   "execution_count": 9,
   "metadata": {},
   "outputs": [
    {
     "data": {
      "text/html": [
       "<div>\n",
       "<style scoped>\n",
       "    .dataframe tbody tr th:only-of-type {\n",
       "        vertical-align: middle;\n",
       "    }\n",
       "\n",
       "    .dataframe tbody tr th {\n",
       "        vertical-align: top;\n",
       "    }\n",
       "\n",
       "    .dataframe thead th {\n",
       "        text-align: right;\n",
       "    }\n",
       "</style>\n",
       "<table border=\"1\" class=\"dataframe\">\n",
       "  <thead>\n",
       "    <tr style=\"text-align: right;\">\n",
       "      <th></th>\n",
       "      <th>title</th>\n",
       "      <th>text</th>\n",
       "      <th>link</th>\n",
       "      <th>author</th>\n",
       "      <th>clean_title</th>\n",
       "      <th>clean_text</th>\n",
       "    </tr>\n",
       "    <tr>\n",
       "      <th>label</th>\n",
       "      <th></th>\n",
       "      <th></th>\n",
       "      <th></th>\n",
       "      <th></th>\n",
       "      <th></th>\n",
       "      <th></th>\n",
       "    </tr>\n",
       "  </thead>\n",
       "  <tbody>\n",
       "    <tr>\n",
       "      <th>0</th>\n",
       "      <td>468</td>\n",
       "      <td>468</td>\n",
       "      <td>468</td>\n",
       "      <td>468</td>\n",
       "      <td>468</td>\n",
       "      <td>468</td>\n",
       "    </tr>\n",
       "    <tr>\n",
       "      <th>1</th>\n",
       "      <td>168</td>\n",
       "      <td>168</td>\n",
       "      <td>168</td>\n",
       "      <td>168</td>\n",
       "      <td>168</td>\n",
       "      <td>168</td>\n",
       "    </tr>\n",
       "  </tbody>\n",
       "</table>\n",
       "</div>"
      ],
      "text/plain": [
       "       title  text  link  author  clean_title  clean_text\n",
       "label                                                    \n",
       "0        468   468   468     468          468         468\n",
       "1        168   168   168     168          168         168"
      ]
     },
     "execution_count": 9,
     "metadata": {},
     "output_type": "execute_result"
    }
   ],
   "source": [
    "df.loc[indices_body_train].groupby('label').agg('count')  #training data states "
   ]
  },
  {
   "cell_type": "code",
   "execution_count": 10,
   "metadata": {},
   "outputs": [
    {
     "data": {
      "text/html": [
       "<div>\n",
       "<style scoped>\n",
       "    .dataframe tbody tr th:only-of-type {\n",
       "        vertical-align: middle;\n",
       "    }\n",
       "\n",
       "    .dataframe tbody tr th {\n",
       "        vertical-align: top;\n",
       "    }\n",
       "\n",
       "    .dataframe thead th {\n",
       "        text-align: right;\n",
       "    }\n",
       "</style>\n",
       "<table border=\"1\" class=\"dataframe\">\n",
       "  <thead>\n",
       "    <tr style=\"text-align: right;\">\n",
       "      <th></th>\n",
       "      <th>title</th>\n",
       "      <th>text</th>\n",
       "      <th>link</th>\n",
       "      <th>author</th>\n",
       "      <th>clean_title</th>\n",
       "      <th>clean_text</th>\n",
       "    </tr>\n",
       "    <tr>\n",
       "      <th>label</th>\n",
       "      <th></th>\n",
       "      <th></th>\n",
       "      <th></th>\n",
       "      <th></th>\n",
       "      <th></th>\n",
       "      <th></th>\n",
       "    </tr>\n",
       "  </thead>\n",
       "  <tbody>\n",
       "    <tr>\n",
       "      <th>0</th>\n",
       "      <td>111</td>\n",
       "      <td>111</td>\n",
       "      <td>111</td>\n",
       "      <td>111</td>\n",
       "      <td>111</td>\n",
       "      <td>111</td>\n",
       "    </tr>\n",
       "    <tr>\n",
       "      <th>1</th>\n",
       "      <td>48</td>\n",
       "      <td>48</td>\n",
       "      <td>48</td>\n",
       "      <td>48</td>\n",
       "      <td>48</td>\n",
       "      <td>48</td>\n",
       "    </tr>\n",
       "  </tbody>\n",
       "</table>\n",
       "</div>"
      ],
      "text/plain": [
       "       title  text  link  author  clean_title  clean_text\n",
       "label                                                    \n",
       "0        111   111   111     111          111         111\n",
       "1         48    48    48      48           48          48"
      ]
     },
     "execution_count": 10,
     "metadata": {},
     "output_type": "execute_result"
    }
   ],
   "source": [
    "df.loc[indices_body_test].groupby('label').agg('count')   #test data states"
   ]
  },
  {
   "cell_type": "markdown",
   "metadata": {},
   "source": [
    "# Import naive bayes classifier"
   ]
  },
  {
   "cell_type": "code",
   "execution_count": 11,
   "metadata": {},
   "outputs": [],
   "source": [
    "from sklearn.naive_bayes import MultinomialNB"
   ]
  },
  {
   "cell_type": "code",
   "execution_count": 12,
   "metadata": {},
   "outputs": [],
   "source": [
    "nb_body = MultinomialNB()        #initialize nb classifier"
   ]
  },
  {
   "cell_type": "markdown",
   "metadata": {},
   "source": [
    "fit training data into classifier"
   ]
  },
  {
   "cell_type": "code",
   "execution_count": 13,
   "metadata": {},
   "outputs": [
    {
     "data": {
      "text/plain": [
       "MultinomialNB()"
      ]
     },
     "execution_count": 13,
     "metadata": {},
     "output_type": "execute_result"
    }
   ],
   "source": [
    "nb_body.fit(X_body_tfidf_train, y_body_train)"
   ]
  },
  {
   "cell_type": "markdown",
   "metadata": {},
   "source": [
    "prediction "
   ]
  },
  {
   "cell_type": "code",
   "execution_count": 14,
   "metadata": {},
   "outputs": [],
   "source": [
    "y_body_train_pred = nb_body.predict(X_body_tfidf_train)"
   ]
  },
  {
   "cell_type": "code",
   "execution_count": 15,
   "metadata": {},
   "outputs": [
    {
     "name": "stdout",
     "output_type": "stream",
     "text": [
      "Naive Bayes In Sample F1 and Accuracy Scores:\n",
      "F1 score 87.96%\n",
      "Accuracy score 91.67%\n"
     ]
    }
   ],
   "source": [
    "print('Naive Bayes In Sample F1 and Accuracy Scores:')\n",
    "print('F1 score {:.4}%'.format(f1_score(y_body_train, y_body_train_pred, average='macro')*100 ))\n",
    "print ('Accuracy score {:.4}%'.format(accuracy_score(y_body_train, y_body_train_pred)*100))"
   ]
  },
  {
   "cell_type": "code",
   "execution_count": null,
   "metadata": {},
   "outputs": [],
   "source": []
  }
 ],
 "metadata": {
  "kernelspec": {
   "display_name": "Python 3",
   "language": "python",
   "name": "python3"
  },
  "language_info": {
   "codemirror_mode": {
    "name": "ipython",
    "version": 3
   },
   "file_extension": ".py",
   "mimetype": "text/x-python",
   "name": "python",
   "nbconvert_exporter": "python",
   "pygments_lexer": "ipython3",
   "version": "3.6.8"
  }
 },
 "nbformat": 4,
 "nbformat_minor": 4
}
