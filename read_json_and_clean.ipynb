{
 "cells": [
  {
   "cell_type": "code",
   "execution_count": 5,
   "metadata": {},
   "outputs": [],
   "source": [
    "import json\n",
    "import pandas as pd\n",
    "import numpy as np"
   ]
  },
  {
   "cell_type": "code",
   "execution_count": 6,
   "metadata": {},
   "outputs": [],
   "source": [
    "#program to read json file and to convert it to a Dataframe\n",
    "#first print the name of newspaper sites"
   ]
  },
  {
   "cell_type": "code",
   "execution_count": 7,
   "metadata": {},
   "outputs": [
    {
     "name": "stdout",
     "output_type": "stream",
     "text": [
      "0 newyorktimes_business\n",
      "1 newyorktimes_science\n",
      "2 newyorktimes_technology\n",
      "3 cnbc_top_news\n",
      "4 cnbc_investing\n",
      "5 entrepreneur_latest\n",
      "6 entrepreneur_marketing\n",
      "7 fivethirtyeight_science\n",
      "8 fivethirtyeight_economics\n",
      "9 theguardian\n",
      "10 washington_post\n",
      "11 americanflavor\n",
      "12 bb4sp\n",
      "13 beforeitsnews\n",
      "14 clashdaily\n",
      "15 conservativedailypost\n",
      "16 dailybuzzlive\n",
      "17 corporatedispatch\n",
      "18 dailysurge\n",
      "19 democraticunderground\n",
      "20 en-volve\n",
      "21 newspunch\n",
      "22 usasupreme\n"
     ]
    }
   ],
   "source": [
    "fname = 'scraped_articles.json'\n",
    "with open(fname) as json_data:\n",
    "    d = json.load(json_data)\n",
    "for i, site in enumerate((list(d['newspapers'])[:])):\n",
    "    print(i,site)"
   ]
  },
  {
   "cell_type": "code",
   "execution_count": 8,
   "metadata": {},
   "outputs": [
    {
     "data": {
      "text/html": [
       "<div>\n",
       "<style scoped>\n",
       "    .dataframe tbody tr th:only-of-type {\n",
       "        vertical-align: middle;\n",
       "    }\n",
       "\n",
       "    .dataframe tbody tr th {\n",
       "        vertical-align: top;\n",
       "    }\n",
       "\n",
       "    .dataframe thead th {\n",
       "        text-align: right;\n",
       "    }\n",
       "</style>\n",
       "<table border=\"1\" class=\"dataframe\">\n",
       "  <thead>\n",
       "    <tr style=\"text-align: right;\">\n",
       "      <th></th>\n",
       "      <th>title</th>\n",
       "      <th>text</th>\n",
       "      <th>link</th>\n",
       "      <th>author</th>\n",
       "    </tr>\n",
       "  </thead>\n",
       "  <tbody>\n",
       "    <tr>\n",
       "      <th>0</th>\n",
       "      <td>Twitter Takedown Targets QAnon Accounts</td>\n",
       "      <td>“These accounts amplify and enable networked h...</td>\n",
       "      <td>https://www.nytimes.com/2020/07/21/technology/...</td>\n",
       "      <td>[Kate Conger]</td>\n",
       "    </tr>\n",
       "    <tr>\n",
       "      <th>1</th>\n",
       "      <td>Major Security Flaws Found in South Korea Quar...</td>\n",
       "      <td>“We were really in a hurry to make and deploy ...</td>\n",
       "      <td>https://www.nytimes.com/2020/07/21/technology/...</td>\n",
       "      <td>[Choe Sang-Hun, Aaron Krolik, Raymond Zhong, N...</td>\n",
       "    </tr>\n",
       "    <tr>\n",
       "      <th>2</th>\n",
       "      <td>Tensions Between U.S. and China Rattle Investo...</td>\n",
       "      <td>Luxuries do still exist during the pandemic, ‘...</td>\n",
       "      <td>https://www.nytimes.com/live/2020/07/22/busine...</td>\n",
       "      <td>[Niraj Chokshi, Kevin Granville, Gillian Fried...</td>\n",
       "    </tr>\n",
       "    <tr>\n",
       "      <th>3</th>\n",
       "      <td>Coronavirus Threatens the Luster of Superstar ...</td>\n",
       "      <td>From 1980 to 2018, the income per person in Ne...</td>\n",
       "      <td>https://www.nytimes.com/2020/07/21/business/ec...</td>\n",
       "      <td>[Eduardo Porter]</td>\n",
       "    </tr>\n",
       "    <tr>\n",
       "      <th>4</th>\n",
       "      <td>A Company Backs a Cause. It Funds a Politician...</td>\n",
       "      <td>Walmart calls its employees “heroes” for putti...</td>\n",
       "      <td>https://www.nytimes.com/2020/07/21/business/de...</td>\n",
       "      <td>[Andrew Ross Sorkin]</td>\n",
       "    </tr>\n",
       "    <tr>\n",
       "      <th>...</th>\n",
       "      <td>...</td>\n",
       "      <td>...</td>\n",
       "      <td>...</td>\n",
       "      <td>...</td>\n",
       "    </tr>\n",
       "    <tr>\n",
       "      <th>790</th>\n",
       "      <td>Get ready for “The ‘M’ Word” by Jeff Foxworthy</td>\n",
       "      <td>Isn’t it strange when you can use a comedy pla...</td>\n",
       "      <td>https://www.usasupreme.com/get-ready-m-word-je...</td>\n",
       "      <td>[Alex D., Alex D Is A Conservative Journalist,...</td>\n",
       "    </tr>\n",
       "    <tr>\n",
       "      <th>791</th>\n",
       "      <td>Somali Muslims Take Over Small Tennessee Town ...</td>\n",
       "      <td>Obama’s plan to bring refugees in our country ...</td>\n",
       "      <td>https://www.usasupreme.com/somali-muslims-take...</td>\n",
       "      <td>[Natalie D., Natalie D. Is An American Conserv...</td>\n",
       "    </tr>\n",
       "    <tr>\n",
       "      <th>792</th>\n",
       "      <td>Somali Muslims Take Over Small Tennessee Town ...</td>\n",
       "      <td>Obama’s plan to bring refugees in our country ...</td>\n",
       "      <td>https://www.usasupreme.com/somali-muslims-take...</td>\n",
       "      <td>[Natalie D., Natalie D. Is An American Conserv...</td>\n",
       "    </tr>\n",
       "    <tr>\n",
       "      <th>793</th>\n",
       "      <td>Obama Admin Funneled Billions Into Left-Wing A...</td>\n",
       "      <td>The leftists scream about taxpayer money for s...</td>\n",
       "      <td>https://www.usasupreme.com/obama-admin-funnele...</td>\n",
       "      <td>[Alex D., Alex D Is A Conservative Journalist,...</td>\n",
       "    </tr>\n",
       "    <tr>\n",
       "      <th>794</th>\n",
       "      <td>Obama Admin Funneled Billions Into Left-Wing A...</td>\n",
       "      <td>The leftists scream about taxpayer money for s...</td>\n",
       "      <td>https://www.usasupreme.com/obama-admin-funnele...</td>\n",
       "      <td>[Alex D., Alex D Is A Conservative Journalist,...</td>\n",
       "    </tr>\n",
       "  </tbody>\n",
       "</table>\n",
       "<p>795 rows × 4 columns</p>\n",
       "</div>"
      ],
      "text/plain": [
       "                                                 title  \\\n",
       "0              Twitter Takedown Targets QAnon Accounts   \n",
       "1    Major Security Flaws Found in South Korea Quar...   \n",
       "2    Tensions Between U.S. and China Rattle Investo...   \n",
       "3    Coronavirus Threatens the Luster of Superstar ...   \n",
       "4    A Company Backs a Cause. It Funds a Politician...   \n",
       "..                                                 ...   \n",
       "790     Get ready for “The ‘M’ Word” by Jeff Foxworthy   \n",
       "791  Somali Muslims Take Over Small Tennessee Town ...   \n",
       "792  Somali Muslims Take Over Small Tennessee Town ...   \n",
       "793  Obama Admin Funneled Billions Into Left-Wing A...   \n",
       "794  Obama Admin Funneled Billions Into Left-Wing A...   \n",
       "\n",
       "                                                  text  \\\n",
       "0    “These accounts amplify and enable networked h...   \n",
       "1    “We were really in a hurry to make and deploy ...   \n",
       "2    Luxuries do still exist during the pandemic, ‘...   \n",
       "3    From 1980 to 2018, the income per person in Ne...   \n",
       "4    Walmart calls its employees “heroes” for putti...   \n",
       "..                                                 ...   \n",
       "790  Isn’t it strange when you can use a comedy pla...   \n",
       "791  Obama’s plan to bring refugees in our country ...   \n",
       "792  Obama’s plan to bring refugees in our country ...   \n",
       "793  The leftists scream about taxpayer money for s...   \n",
       "794  The leftists scream about taxpayer money for s...   \n",
       "\n",
       "                                                  link  \\\n",
       "0    https://www.nytimes.com/2020/07/21/technology/...   \n",
       "1    https://www.nytimes.com/2020/07/21/technology/...   \n",
       "2    https://www.nytimes.com/live/2020/07/22/busine...   \n",
       "3    https://www.nytimes.com/2020/07/21/business/ec...   \n",
       "4    https://www.nytimes.com/2020/07/21/business/de...   \n",
       "..                                                 ...   \n",
       "790  https://www.usasupreme.com/get-ready-m-word-je...   \n",
       "791  https://www.usasupreme.com/somali-muslims-take...   \n",
       "792  https://www.usasupreme.com/somali-muslims-take...   \n",
       "793  https://www.usasupreme.com/obama-admin-funnele...   \n",
       "794  https://www.usasupreme.com/obama-admin-funnele...   \n",
       "\n",
       "                                                author  \n",
       "0                                        [Kate Conger]  \n",
       "1    [Choe Sang-Hun, Aaron Krolik, Raymond Zhong, N...  \n",
       "2    [Niraj Chokshi, Kevin Granville, Gillian Fried...  \n",
       "3                                     [Eduardo Porter]  \n",
       "4                                 [Andrew Ross Sorkin]  \n",
       "..                                                 ...  \n",
       "790  [Alex D., Alex D Is A Conservative Journalist,...  \n",
       "791  [Natalie D., Natalie D. Is An American Conserv...  \n",
       "792  [Natalie D., Natalie D. Is An American Conserv...  \n",
       "793  [Alex D., Alex D Is A Conservative Journalist,...  \n",
       "794  [Alex D., Alex D Is A Conservative Journalist,...  \n",
       "\n",
       "[795 rows x 4 columns]"
      ]
     },
     "execution_count": 8,
     "metadata": {},
     "output_type": "execute_result"
    }
   ],
   "source": [
    "for i, site in enumerate((list(d['newspapers']))):\n",
    "\tarticles = list(d['newspapers'][site]['articles'])\n",
    "\tif i==0:\n",
    "\t\tdf = pd.DataFrame.from_dict(articles)\n",
    "\telse:\n",
    "\t\tnew_df = pd.DataFrame.from_dict(articles)\n",
    "\t\tdf = pd.concat([df, new_df], ignore_index = True)\n",
    "df"
   ]
  },
  {
   "cell_type": "code",
   "execution_count": 9,
   "metadata": {},
   "outputs": [],
   "source": [
    "df.to_pickle('dirty_df.pkl')"
   ]
  },
  {
   "cell_type": "code",
   "execution_count": 10,
   "metadata": {},
   "outputs": [],
   "source": [
    "# list of spam sites\n",
    "spam = list(d['newspapers'])[-12:]"
   ]
  },
  {
   "cell_type": "code",
   "execution_count": 11,
   "metadata": {},
   "outputs": [],
   "source": [
    "# create a column for the label of the article, a label of 0 is ham, a label of 1 is spam\n",
    "df['label'] = 0"
   ]
  },
  {
   "cell_type": "code",
   "execution_count": 12,
   "metadata": {},
   "outputs": [],
   "source": [
    "for i, site in enumerate(spam):\n",
    "    df.loc[df['link'].str.contains('{}'.format(site)), 'label'] = 1"
   ]
  },
  {
   "cell_type": "code",
   "execution_count": 13,
   "metadata": {},
   "outputs": [
    {
     "data": {
      "text/html": [
       "<div>\n",
       "<style scoped>\n",
       "    .dataframe tbody tr th:only-of-type {\n",
       "        vertical-align: middle;\n",
       "    }\n",
       "\n",
       "    .dataframe tbody tr th {\n",
       "        vertical-align: top;\n",
       "    }\n",
       "\n",
       "    .dataframe thead th {\n",
       "        text-align: right;\n",
       "    }\n",
       "</style>\n",
       "<table border=\"1\" class=\"dataframe\">\n",
       "  <thead>\n",
       "    <tr style=\"text-align: right;\">\n",
       "      <th></th>\n",
       "      <th>title</th>\n",
       "    </tr>\n",
       "    <tr>\n",
       "      <th>label</th>\n",
       "      <th></th>\n",
       "    </tr>\n",
       "  </thead>\n",
       "  <tbody>\n",
       "    <tr>\n",
       "      <th>0</th>\n",
       "      <td>579</td>\n",
       "    </tr>\n",
       "    <tr>\n",
       "      <th>1</th>\n",
       "      <td>216</td>\n",
       "    </tr>\n",
       "  </tbody>\n",
       "</table>\n",
       "</div>"
      ],
      "text/plain": [
       "       title\n",
       "label       \n",
       "0        579\n",
       "1        216"
      ]
     },
     "execution_count": 13,
     "metadata": {},
     "output_type": "execute_result"
    }
   ],
   "source": [
    "# 463 non spam articles, 168 spam articles\n",
    "df[['title', 'label']].groupby('label').agg('count')"
   ]
  },
  {
   "cell_type": "code",
   "execution_count": null,
   "metadata": {},
   "outputs": [],
   "source": []
  },
  {
   "cell_type": "code",
   "execution_count": 15,
   "metadata": {},
   "outputs": [],
   "source": [
    "# python module for cleaning!\n",
    "%run cleaning_helper.py"
   ]
  },
  {
   "cell_type": "code",
   "execution_count": 16,
   "metadata": {},
   "outputs": [],
   "source": [
    "finaldf = df.copy()"
   ]
  },
  {
   "cell_type": "code",
   "execution_count": 17,
   "metadata": {},
   "outputs": [],
   "source": [
    "# function imported from python module"
   ]
  },
  {
   "cell_type": "code",
   "execution_count": 18,
   "metadata": {},
   "outputs": [],
   "source": [
    "finaldf = clean_column(finaldf, 'title', 'clean_title')"
   ]
  },
  {
   "cell_type": "code",
   "execution_count": 19,
   "metadata": {},
   "outputs": [],
   "source": [
    "finaldf = clean_column(finaldf, 'text', 'clean_text')"
   ]
  },
  {
   "cell_type": "code",
   "execution_count": 20,
   "metadata": {},
   "outputs": [
    {
     "data": {
      "text/html": [
       "<div>\n",
       "<style scoped>\n",
       "    .dataframe tbody tr th:only-of-type {\n",
       "        vertical-align: middle;\n",
       "    }\n",
       "\n",
       "    .dataframe tbody tr th {\n",
       "        vertical-align: top;\n",
       "    }\n",
       "\n",
       "    .dataframe thead th {\n",
       "        text-align: right;\n",
       "    }\n",
       "</style>\n",
       "<table border=\"1\" class=\"dataframe\">\n",
       "  <thead>\n",
       "    <tr style=\"text-align: right;\">\n",
       "      <th></th>\n",
       "      <th>title</th>\n",
       "      <th>text</th>\n",
       "      <th>link</th>\n",
       "      <th>author</th>\n",
       "      <th>label</th>\n",
       "      <th>clean_title</th>\n",
       "      <th>clean_text</th>\n",
       "    </tr>\n",
       "  </thead>\n",
       "  <tbody>\n",
       "    <tr>\n",
       "      <th>0</th>\n",
       "      <td>Twitter Takedown Targets QAnon Accounts</td>\n",
       "      <td>“These accounts amplify and enable networked h...</td>\n",
       "      <td>https://www.nytimes.com/2020/07/21/technology/...</td>\n",
       "      <td>[Kate Conger]</td>\n",
       "      <td>0</td>\n",
       "      <td>twitter takedown targets qanon accounts</td>\n",
       "      <td>accounts amplify enable networked harassment ...</td>\n",
       "    </tr>\n",
       "    <tr>\n",
       "      <th>1</th>\n",
       "      <td>Major Security Flaws Found in South Korea Quar...</td>\n",
       "      <td>“We were really in a hurry to make and deploy ...</td>\n",
       "      <td>https://www.nytimes.com/2020/07/21/technology/...</td>\n",
       "      <td>[Choe Sang-Hun, Aaron Krolik, Raymond Zhong, N...</td>\n",
       "      <td>0</td>\n",
       "      <td>major security flaws found south korea quaran...</td>\n",
       "      <td>really hurry make deploy app quickly possible...</td>\n",
       "    </tr>\n",
       "    <tr>\n",
       "      <th>2</th>\n",
       "      <td>Tensions Between U.S. and China Rattle Investo...</td>\n",
       "      <td>Luxuries do still exist during the pandemic, ‘...</td>\n",
       "      <td>https://www.nytimes.com/live/2020/07/22/busine...</td>\n",
       "      <td>[Niraj Chokshi, Kevin Granville, Gillian Fried...</td>\n",
       "      <td>0</td>\n",
       "      <td>tensions u china rattle investors live busine...</td>\n",
       "      <td>luxuries still exist pandemic money united ai...</td>\n",
       "    </tr>\n",
       "    <tr>\n",
       "      <th>3</th>\n",
       "      <td>Coronavirus Threatens the Luster of Superstar ...</td>\n",
       "      <td>From 1980 to 2018, the income per person in Ne...</td>\n",
       "      <td>https://www.nytimes.com/2020/07/21/business/ec...</td>\n",
       "      <td>[Eduardo Porter]</td>\n",
       "      <td>0</td>\n",
       "      <td>coronavirus threatens luster superstar cities</td>\n",
       "      <td>income per person new york metropolitan area ...</td>\n",
       "    </tr>\n",
       "    <tr>\n",
       "      <th>4</th>\n",
       "      <td>A Company Backs a Cause. It Funds a Politician...</td>\n",
       "      <td>Walmart calls its employees “heroes” for putti...</td>\n",
       "      <td>https://www.nytimes.com/2020/07/21/business/de...</td>\n",
       "      <td>[Andrew Ross Sorkin]</td>\n",
       "      <td>0</td>\n",
       "      <td>company backs cause funds politician gives</td>\n",
       "      <td>walmart calls employees heroes putting health...</td>\n",
       "    </tr>\n",
       "  </tbody>\n",
       "</table>\n",
       "</div>"
      ],
      "text/plain": [
       "                                               title  \\\n",
       "0            Twitter Takedown Targets QAnon Accounts   \n",
       "1  Major Security Flaws Found in South Korea Quar...   \n",
       "2  Tensions Between U.S. and China Rattle Investo...   \n",
       "3  Coronavirus Threatens the Luster of Superstar ...   \n",
       "4  A Company Backs a Cause. It Funds a Politician...   \n",
       "\n",
       "                                                text  \\\n",
       "0  “These accounts amplify and enable networked h...   \n",
       "1  “We were really in a hurry to make and deploy ...   \n",
       "2  Luxuries do still exist during the pandemic, ‘...   \n",
       "3  From 1980 to 2018, the income per person in Ne...   \n",
       "4  Walmart calls its employees “heroes” for putti...   \n",
       "\n",
       "                                                link  \\\n",
       "0  https://www.nytimes.com/2020/07/21/technology/...   \n",
       "1  https://www.nytimes.com/2020/07/21/technology/...   \n",
       "2  https://www.nytimes.com/live/2020/07/22/busine...   \n",
       "3  https://www.nytimes.com/2020/07/21/business/ec...   \n",
       "4  https://www.nytimes.com/2020/07/21/business/de...   \n",
       "\n",
       "                                              author  label  \\\n",
       "0                                      [Kate Conger]      0   \n",
       "1  [Choe Sang-Hun, Aaron Krolik, Raymond Zhong, N...      0   \n",
       "2  [Niraj Chokshi, Kevin Granville, Gillian Fried...      0   \n",
       "3                                   [Eduardo Porter]      0   \n",
       "4                               [Andrew Ross Sorkin]      0   \n",
       "\n",
       "                                         clean_title  \\\n",
       "0            twitter takedown targets qanon accounts   \n",
       "1   major security flaws found south korea quaran...   \n",
       "2   tensions u china rattle investors live busine...   \n",
       "3      coronavirus threatens luster superstar cities   \n",
       "4         company backs cause funds politician gives   \n",
       "\n",
       "                                          clean_text  \n",
       "0   accounts amplify enable networked harassment ...  \n",
       "1   really hurry make deploy app quickly possible...  \n",
       "2   luxuries still exist pandemic money united ai...  \n",
       "3   income per person new york metropolitan area ...  \n",
       "4   walmart calls employees heroes putting health...  "
      ]
     },
     "execution_count": 20,
     "metadata": {},
     "output_type": "execute_result"
    }
   ],
   "source": [
    "finaldf.head()"
   ]
  },
  {
   "cell_type": "code",
   "execution_count": 21,
   "metadata": {},
   "outputs": [],
   "source": [
    "finaldf.to_pickle('cleaned_df.pkl')"
   ]
  },
  {
   "cell_type": "code",
   "execution_count": null,
   "metadata": {},
   "outputs": [],
   "source": []
  },
  {
   "cell_type": "code",
   "execution_count": null,
   "metadata": {
    "scrolled": true
   },
   "outputs": [],
   "source": []
  },
  {
   "cell_type": "code",
   "execution_count": 64,
   "metadata": {},
   "outputs": [],
   "source": [
    "\n",
    "\n"
   ]
  },
  {
   "cell_type": "code",
   "execution_count": null,
   "metadata": {},
   "outputs": [],
   "source": []
  },
  {
   "cell_type": "code",
   "execution_count": 66,
   "metadata": {},
   "outputs": [],
   "source": []
  },
  {
   "cell_type": "code",
   "execution_count": null,
   "metadata": {},
   "outputs": [],
   "source": []
  }
 ],
 "metadata": {
  "kernelspec": {
   "display_name": "Python 3",
   "language": "python",
   "name": "python3"
  },
  "language_info": {
   "codemirror_mode": {
    "name": "ipython",
    "version": 3
   },
   "file_extension": ".py",
   "mimetype": "text/x-python",
   "name": "python",
   "nbconvert_exporter": "python",
   "pygments_lexer": "ipython3",
   "version": "3.6.8"
  }
 },
 "nbformat": 4,
 "nbformat_minor": 4
}
